{
 "cells": [
  {
   "cell_type": "code",
   "execution_count": 1,
   "id": "060e6f17",
   "metadata": {},
   "outputs": [],
   "source": [
    "import numpy as np"
   ]
  },
  {
   "cell_type": "markdown",
   "id": "7b3e900f",
   "metadata": {},
   "source": [
    "## NumPy Array"
   ]
  },
  {
   "cell_type": "markdown",
   "id": "585dfd90",
   "metadata": {},
   "source": [
    "####  - How to create an empty and a full NumPy array?"
   ]
  },
  {
   "cell_type": "code",
   "execution_count": 2,
   "id": "0d9e123e",
   "metadata": {},
   "outputs": [
    {
     "data": {
      "text/plain": [
       "array([[0.000e+000, 0.000e+000, 0.000e+000],\n",
       "       [0.000e+000, 0.000e+000, 6.107e-321],\n",
       "       [0.000e+000, 0.000e+000, 0.000e+000]])"
      ]
     },
     "execution_count": 2,
     "metadata": {},
     "output_type": "execute_result"
    }
   ],
   "source": [
    "np.empty([3,3])"
   ]
  },
  {
   "cell_type": "code",
   "execution_count": 3,
   "id": "ed83c9cf",
   "metadata": {},
   "outputs": [
    {
     "data": {
      "text/plain": [
       "array([[50, 50, 50],\n",
       "       [50, 50, 50],\n",
       "       [50, 50, 50]])"
      ]
     },
     "execution_count": 3,
     "metadata": {},
     "output_type": "execute_result"
    }
   ],
   "source": [
    "np.full([3,3], 50)"
   ]
  },
  {
   "cell_type": "markdown",
   "id": "1a647923",
   "metadata": {},
   "source": [
    "#### - Create a Numpy array filled with all zeros"
   ]
  },
  {
   "cell_type": "code",
   "execution_count": 4,
   "id": "c6f7a372",
   "metadata": {},
   "outputs": [
    {
     "data": {
      "text/plain": [
       "array([0., 0., 0., 0., 0.])"
      ]
     },
     "execution_count": 4,
     "metadata": {},
     "output_type": "execute_result"
    }
   ],
   "source": [
    "np.zeros(5)"
   ]
  },
  {
   "cell_type": "markdown",
   "id": "b4c52e63",
   "metadata": {},
   "source": [
    "#### - Create a Numpy array filled with all ones "
   ]
  },
  {
   "cell_type": "code",
   "execution_count": 5,
   "id": "52f76dcd",
   "metadata": {},
   "outputs": [
    {
     "data": {
      "text/plain": [
       "array([1., 1., 1., 1., 1.])"
      ]
     },
     "execution_count": 5,
     "metadata": {},
     "output_type": "execute_result"
    }
   ],
   "source": [
    "np.ones(5)"
   ]
  },
  {
   "cell_type": "markdown",
   "id": "4ab55087",
   "metadata": {},
   "source": [
    "#### - Check whether a Numpy array contains a specified row "
   ]
  },
  {
   "cell_type": "code",
   "execution_count": 6,
   "id": "de674939",
   "metadata": {},
   "outputs": [
    {
     "data": {
      "text/plain": [
       "array([[ 5,  6,  5,  2,  4],\n",
       "       [ 5,  8,  2,  0,  1],\n",
       "       [15, 62, 22, 35, 42],\n",
       "       [16,  8,  9, 15, 14]])"
      ]
     },
     "execution_count": 6,
     "metadata": {},
     "output_type": "execute_result"
    }
   ],
   "source": [
    "arr = np.array([[5, 6, 5, 2, 4], [5, 8, 2, 0, 1], [15, 62, 22, 35, 42], [16, 8, 9, 15, 14]])\n",
    "arr"
   ]
  },
  {
   "cell_type": "code",
   "execution_count": 7,
   "id": "88123abc",
   "metadata": {},
   "outputs": [
    {
     "data": {
      "text/plain": [
       "True"
      ]
     },
     "execution_count": 7,
     "metadata": {},
     "output_type": "execute_result"
    }
   ],
   "source": [
    "[15, 62, 22, 35, 42] in arr.tolist()"
   ]
  },
  {
   "cell_type": "markdown",
   "id": "090e707a",
   "metadata": {},
   "source": [
    "####  - How to Remove rows in Numpy array that contains non-numeric values?"
   ]
  },
  {
   "cell_type": "code",
   "execution_count": 8,
   "id": "96562e89",
   "metadata": {},
   "outputs": [
    {
     "data": {
      "text/plain": [
       "array([[ 5.,  6.,  5.],\n",
       "       [ 5.,  8.,  2.],\n",
       "       [ 2., nan, nan]])"
      ]
     },
     "execution_count": 8,
     "metadata": {},
     "output_type": "execute_result"
    }
   ],
   "source": [
    "arr = np.array([[5, 6, 5], [5, 8, 2], [2, np.nan, np.nan]])\n",
    "arr"
   ]
  },
  {
   "cell_type": "code",
   "execution_count": 9,
   "id": "67bea4bf",
   "metadata": {},
   "outputs": [
    {
     "data": {
      "text/plain": [
       "array([[5., 6., 5.],\n",
       "       [5., 8., 2.]])"
      ]
     },
     "execution_count": 9,
     "metadata": {},
     "output_type": "execute_result"
    }
   ],
   "source": [
    "arr[~np.isnan(arr).any(axis=1)]"
   ]
  },
  {
   "cell_type": "markdown",
   "id": "2fdac481",
   "metadata": {},
   "source": [
    "#### - Remove single-dimensional entries from the shape of an array"
   ]
  },
  {
   "cell_type": "code",
   "execution_count": 10,
   "id": "c37216b1",
   "metadata": {},
   "outputs": [
    {
     "data": {
      "text/plain": [
       "(1, 2, 4)"
      ]
     },
     "execution_count": 10,
     "metadata": {},
     "output_type": "execute_result"
    }
   ],
   "source": [
    "in_arr = np.array([[[5, 6, 5, 2], [5, 8, 2, 0]]])\n",
    "in_arr.shape"
   ]
  },
  {
   "cell_type": "code",
   "execution_count": 11,
   "id": "45fc3e73",
   "metadata": {},
   "outputs": [
    {
     "data": {
      "text/plain": [
       "(2, 4)"
      ]
     },
     "execution_count": 11,
     "metadata": {},
     "output_type": "execute_result"
    }
   ],
   "source": [
    "out_arr = np.squeeze(in_arr)\n",
    "out_arr.shape"
   ]
  },
  {
   "cell_type": "markdown",
   "id": "bb51897d",
   "metadata": {},
   "source": [
    "#### - Find the number of occurrences of a sequence in a NumPy array"
   ]
  },
  {
   "cell_type": "code",
   "execution_count": 12,
   "id": "18d321e5",
   "metadata": {},
   "outputs": [
    {
     "data": {
      "text/plain": [
       "array([[6, 1, 6, 1],\n",
       "       [6, 1, 6, 2],\n",
       "       [6, 1, 5, 3],\n",
       "       [2, 6, 1, 0]])"
      ]
     },
     "execution_count": 12,
     "metadata": {},
     "output_type": "execute_result"
    }
   ],
   "source": [
    "arr = np.array([[6, 1, 6, 1], [6, 1, 6, 2], [6, 1, 5, 3], [2, 6, 1, 0]])\n",
    "arr"
   ]
  },
  {
   "cell_type": "code",
   "execution_count": 13,
   "id": "cbe87f52",
   "metadata": {},
   "outputs": [
    {
     "data": {
      "text/plain": [
       "5"
      ]
     },
     "execution_count": 13,
     "metadata": {},
     "output_type": "execute_result"
    }
   ],
   "source": [
    "repr(arr).count(\"6, 1\")"
   ]
  },
  {
   "cell_type": "markdown",
   "id": "5c028da5",
   "metadata": {},
   "source": [
    "#### - Find the most frequent value in a NumPy array "
   ]
  },
  {
   "cell_type": "code",
   "execution_count": 14,
   "id": "135a75f7",
   "metadata": {},
   "outputs": [
    {
     "data": {
      "text/plain": [
       "array([1, 2, 3, 3, 5, 3, 5, 3, 3, 3, 2])"
      ]
     },
     "execution_count": 14,
     "metadata": {},
     "output_type": "execute_result"
    }
   ],
   "source": [
    "arr = np.array([1, 2, 3, 3, 5, 3, 5, 3, 3, 3, 2])\n",
    "arr"
   ]
  },
  {
   "cell_type": "code",
   "execution_count": 15,
   "id": "ec9c3e77",
   "metadata": {},
   "outputs": [
    {
     "data": {
      "text/plain": [
       "3"
      ]
     },
     "execution_count": 15,
     "metadata": {},
     "output_type": "execute_result"
    }
   ],
   "source": [
    "np.bincount(arr).argmax()"
   ]
  },
  {
   "cell_type": "markdown",
   "id": "225486f3",
   "metadata": {},
   "source": [
    "#### - Combining a one and a two-dimensional NumPy Array "
   ]
  },
  {
   "cell_type": "code",
   "execution_count": 16,
   "id": "22a7d7e6",
   "metadata": {},
   "outputs": [
    {
     "data": {
      "text/plain": [
       "array([0, 1, 2])"
      ]
     },
     "execution_count": 16,
     "metadata": {},
     "output_type": "execute_result"
    }
   ],
   "source": [
    "arr_1d = np.arange(3)\n",
    "arr_1d"
   ]
  },
  {
   "cell_type": "code",
   "execution_count": 17,
   "id": "213ae873",
   "metadata": {},
   "outputs": [
    {
     "data": {
      "text/plain": [
       "array([[0, 1, 2],\n",
       "       [3, 4, 5],\n",
       "       [6, 7, 8]])"
      ]
     },
     "execution_count": 17,
     "metadata": {},
     "output_type": "execute_result"
    }
   ],
   "source": [
    "arr_2d = np.arange(9).reshape(3,3)\n",
    "arr_2d"
   ]
  },
  {
   "cell_type": "code",
   "execution_count": 18,
   "id": "4ef40e34",
   "metadata": {},
   "outputs": [
    {
     "name": "stdout",
     "output_type": "stream",
     "text": [
      "0:0\n",
      "1:1\n",
      "2:2\n",
      "0:3\n",
      "1:4\n",
      "2:5\n",
      "0:6\n",
      "1:7\n",
      "2:8\n"
     ]
    }
   ],
   "source": [
    "for n, m in np.nditer([arr_1d, arr_2d]):\n",
    "    print(f'{n}:{m}')"
   ]
  },
  {
   "cell_type": "markdown",
   "id": "741d8c99",
   "metadata": {},
   "source": [
    "#### - How to build an array of all combinations of two NumPy arrays? "
   ]
  },
  {
   "cell_type": "code",
   "execution_count": 19,
   "id": "c19b8cd2",
   "metadata": {},
   "outputs": [],
   "source": [
    "arr_1 = np.array([2, 4])\n",
    "arr_2 = np.array([3, 5])"
   ]
  },
  {
   "cell_type": "code",
   "execution_count": 20,
   "id": "ac950265",
   "metadata": {},
   "outputs": [
    {
     "data": {
      "text/plain": [
       "array([[2, 3],\n",
       "       [2, 5],\n",
       "       [4, 3],\n",
       "       [4, 5]])"
      ]
     },
     "execution_count": 20,
     "metadata": {},
     "output_type": "execute_result"
    }
   ],
   "source": [
    "comb_arr = np.array(np.meshgrid(arr_1, arr_2)).T\n",
    "comb_arr.reshape(-1, 2)"
   ]
  },
  {
   "cell_type": "code",
   "execution_count": 21,
   "id": "43cc9393",
   "metadata": {},
   "outputs": [
    {
     "data": {
      "text/plain": [
       "array([[[2, 3],\n",
       "        [2, 5]],\n",
       "\n",
       "       [[4, 3],\n",
       "        [4, 5]]])"
      ]
     },
     "execution_count": 21,
     "metadata": {},
     "output_type": "execute_result"
    }
   ],
   "source": [
    "comb_arr"
   ]
  },
  {
   "cell_type": "markdown",
   "id": "ed5a5801",
   "metadata": {},
   "source": [
    "#### - How to add a border around a NumPy array?"
   ]
  },
  {
   "cell_type": "code",
   "execution_count": 22,
   "id": "5cecd4d7",
   "metadata": {},
   "outputs": [
    {
     "data": {
      "text/plain": [
       "array([[1, 2],\n",
       "       [3, 5]])"
      ]
     },
     "execution_count": 22,
     "metadata": {},
     "output_type": "execute_result"
    }
   ],
   "source": [
    "arr = np.array([[1, 2], [3, 5]])\n",
    "arr"
   ]
  },
  {
   "cell_type": "code",
   "execution_count": 23,
   "id": "c54b178a",
   "metadata": {},
   "outputs": [
    {
     "data": {
      "text/plain": [
       "array([[0, 0, 0, 0],\n",
       "       [0, 1, 2, 0],\n",
       "       [0, 3, 5, 0],\n",
       "       [0, 0, 0, 0]])"
      ]
     },
     "execution_count": 23,
     "metadata": {},
     "output_type": "execute_result"
    }
   ],
   "source": [
    "arr = np.pad(arr, pad_width=1, mode='constant', constant_values=0)\n",
    "arr"
   ]
  },
  {
   "cell_type": "markdown",
   "id": "22feaf2e",
   "metadata": {},
   "source": [
    "#### - How to compare two NumPy arrays?"
   ]
  },
  {
   "cell_type": "code",
   "execution_count": 24,
   "id": "4d2e371c",
   "metadata": {},
   "outputs": [
    {
     "data": {
      "text/plain": [
       "True"
      ]
     },
     "execution_count": 24,
     "metadata": {},
     "output_type": "execute_result"
    }
   ],
   "source": [
    "arr_1 = np.array([[2, 5], [6, 2]])\n",
    "arr_2 = np.array([[2, 5], [6, 2]])\n",
    "  \n",
    "equal_arrays = (arr_1 == arr_2).all()\n",
    "equal_arrays"
   ]
  },
  {
   "cell_type": "markdown",
   "id": "b1657cfb",
   "metadata": {},
   "source": [
    "#### - How to check whether specified values are present in NumPy array?"
   ]
  },
  {
   "cell_type": "code",
   "execution_count": 25,
   "id": "0f00989d",
   "metadata": {},
   "outputs": [
    {
     "data": {
      "text/plain": [
       "array([[2, 5, 0],\n",
       "       [1, 2, 4]])"
      ]
     },
     "execution_count": 25,
     "metadata": {},
     "output_type": "execute_result"
    }
   ],
   "source": [
    "arr = np.array([[2, 5, 0], [1, 2, 4]])\n",
    "arr"
   ]
  },
  {
   "cell_type": "code",
   "execution_count": 26,
   "id": "12dcf11e",
   "metadata": {},
   "outputs": [
    {
     "name": "stdout",
     "output_type": "stream",
     "text": [
      "True\n",
      "True\n",
      "False\n",
      "False\n",
      "False\n"
     ]
    }
   ],
   "source": [
    "print(2 in arr)\n",
    "print(0 in arr)\n",
    "print(6 in arr)\n",
    "print(50 in arr)\n",
    "print(10 in arr)"
   ]
  },
  {
   "cell_type": "markdown",
   "id": "d52a60e8",
   "metadata": {},
   "source": [
    "#### - How to get all 2D diagonals of a 3D NumPy array?"
   ]
  },
  {
   "cell_type": "code",
   "execution_count": 27,
   "id": "bd527eaa",
   "metadata": {},
   "outputs": [
    {
     "data": {
      "text/plain": [
       "array([[[ 0,  1,  2,  3],\n",
       "        [ 4,  5,  6,  7],\n",
       "        [ 8,  9, 10, 11],\n",
       "        [12, 13, 14, 15]],\n",
       "\n",
       "       [[16, 17, 18, 19],\n",
       "        [20, 21, 22, 23],\n",
       "        [24, 25, 26, 27],\n",
       "        [28, 29, 30, 31]],\n",
       "\n",
       "       [[32, 33, 34, 35],\n",
       "        [36, 37, 38, 39],\n",
       "        [40, 41, 42, 43],\n",
       "        [44, 45, 46, 47]]])"
      ]
     },
     "execution_count": 27,
     "metadata": {},
     "output_type": "execute_result"
    }
   ],
   "source": [
    "arr_3d = np.arange(3 * 4 * 4).reshape(3, 4, 4)\n",
    "arr_3d"
   ]
  },
  {
   "cell_type": "code",
   "execution_count": 28,
   "id": "0f301563",
   "metadata": {},
   "outputs": [
    {
     "data": {
      "text/plain": [
       "array([[ 0,  5, 10, 15],\n",
       "       [16, 21, 26, 31],\n",
       "       [32, 37, 42, 47]])"
      ]
     },
     "execution_count": 28,
     "metadata": {},
     "output_type": "execute_result"
    }
   ],
   "source": [
    "diag_arr = np.diagonal(arr_3d,  axis1 = 1, axis2 = 2)\n",
    "diag_arr"
   ]
  },
  {
   "cell_type": "markdown",
   "id": "8f9d5551",
   "metadata": {},
   "source": [
    "#### - Flatten a Matrix in Python using NumPy "
   ]
  },
  {
   "cell_type": "code",
   "execution_count": 29,
   "id": "ef12bdbc",
   "metadata": {},
   "outputs": [
    {
     "data": {
      "text/plain": [
       "matrix([[1, 2],\n",
       "        [3, 4]])"
      ]
     },
     "execution_count": 29,
     "metadata": {},
     "output_type": "execute_result"
    }
   ],
   "source": [
    "m = np.matrix([[1,2], [3,4]])\n",
    "m"
   ]
  },
  {
   "cell_type": "code",
   "execution_count": 30,
   "id": "6a29faab",
   "metadata": {},
   "outputs": [
    {
     "data": {
      "text/plain": [
       "matrix([[1, 2, 3, 4]])"
      ]
     },
     "execution_count": 30,
     "metadata": {},
     "output_type": "execute_result"
    }
   ],
   "source": [
    "flat_m = m.flatten()\n",
    "flat_m"
   ]
  },
  {
   "cell_type": "markdown",
   "id": "725e2363",
   "metadata": {},
   "source": [
    "#### - Flatten a 2d numpy array into 1d array"
   ]
  },
  {
   "cell_type": "code",
   "execution_count": 31,
   "id": "c619132b",
   "metadata": {},
   "outputs": [
    {
     "data": {
      "text/plain": [
       "array([[1, 2, 3],\n",
       "       [2, 4, 5]])"
      ]
     },
     "execution_count": 31,
     "metadata": {},
     "output_type": "execute_result"
    }
   ],
   "source": [
    "arr = np.array([[1, 2, 3], [2, 4, 5]])\n",
    "arr"
   ]
  },
  {
   "cell_type": "code",
   "execution_count": 32,
   "id": "1dad63b8",
   "metadata": {},
   "outputs": [
    {
     "data": {
      "text/plain": [
       "array([1, 2, 3, 2, 4, 5])"
      ]
     },
     "execution_count": 32,
     "metadata": {},
     "output_type": "execute_result"
    }
   ],
   "source": [
    "result = arr.flatten()\n",
    "result"
   ]
  },
  {
   "cell_type": "markdown",
   "id": "63f9da07",
   "metadata": {},
   "source": [
    "#### - Move axes of an array to new positions "
   ]
  },
  {
   "cell_type": "code",
   "execution_count": 33,
   "id": "74675df7",
   "metadata": {},
   "outputs": [
    {
     "data": {
      "text/plain": [
       "(3, 4, 5)"
      ]
     },
     "execution_count": 33,
     "metadata": {},
     "output_type": "execute_result"
    }
   ],
   "source": [
    "arr = np.zeros((3, 4, 5))\n",
    "arr.shape"
   ]
  },
  {
   "cell_type": "code",
   "execution_count": 34,
   "id": "1723cb97",
   "metadata": {},
   "outputs": [
    {
     "data": {
      "text/plain": [
       "(4, 5, 3)"
      ]
     },
     "execution_count": 34,
     "metadata": {},
     "output_type": "execute_result"
    }
   ],
   "source": [
    "np.moveaxis(arr, 0, -1).shape"
   ]
  },
  {
   "cell_type": "markdown",
   "id": "1f46fc4a",
   "metadata": {},
   "source": [
    "#### - NumPy – Fibonacci Series using Binet Formula"
   ]
  },
  {
   "cell_type": "code",
   "execution_count": 35,
   "id": "d2241a3b",
   "metadata": {},
   "outputs": [
    {
     "name": "stdout",
     "output_type": "stream",
     "text": [
      "The first 14 numbers are [  1.   1.   2.   3.   5.   8.  13.  21.  34.  55.  89. 144. 233. 377.] . \n"
     ]
    }
   ],
   "source": [
    "arr = np.arange(1, 15)\n",
    "lenArr = len(arr)\n",
    "\n",
    "sqrt = np.sqrt(5)\n",
    "alpha = (1 + sqrt) / 2\n",
    "beta = (1 - sqrt) / 2\n",
    "\n",
    "Fn = np.rint(((alpha ** arr) - (beta ** arr)) / (sqrt))\n",
    "\n",
    "print(\"The first {} numbers are {} . \".format(lenArr, Fn))"
   ]
  },
  {
   "cell_type": "markdown",
   "id": "4f9faa11",
   "metadata": {},
   "source": [
    "#### - Counts the number of non-zero values in the array "
   ]
  },
  {
   "cell_type": "code",
   "execution_count": 36,
   "id": "842b33e6",
   "metadata": {},
   "outputs": [
    {
     "data": {
      "text/plain": [
       "array([ 2,  1,  5,  0, 10,  0,  8,  0,  5,  0])"
      ]
     },
     "execution_count": 36,
     "metadata": {},
     "output_type": "execute_result"
    }
   ],
   "source": [
    "arr = np.array([2, 1, 5, 0, 10, 0, 8, 0, 5, 0])\n",
    "arr"
   ]
  },
  {
   "cell_type": "code",
   "execution_count": 37,
   "id": "57ef406c",
   "metadata": {},
   "outputs": [
    {
     "data": {
      "text/plain": [
       "6"
      ]
     },
     "execution_count": 37,
     "metadata": {},
     "output_type": "execute_result"
    }
   ],
   "source": [
    "count = np.count_nonzero(arr)\n",
    "count"
   ]
  },
  {
   "cell_type": "markdown",
   "id": "74d78949",
   "metadata": {},
   "source": [
    "#### - Count the number of elements along a given axis "
   ]
  },
  {
   "cell_type": "code",
   "execution_count": 38,
   "id": "c9f3d9e0",
   "metadata": {},
   "outputs": [
    {
     "data": {
      "text/plain": [
       "array([[1, 2, 3, 4],\n",
       "       [5, 6, 7, 8]])"
      ]
     },
     "execution_count": 38,
     "metadata": {},
     "output_type": "execute_result"
    }
   ],
   "source": [
    "arr = np.array([[1, 2, 3, 4], [5, 6, 7, 8]])\n",
    "arr"
   ]
  },
  {
   "cell_type": "code",
   "execution_count": 39,
   "id": "651957f9",
   "metadata": {},
   "outputs": [
    {
     "name": "stdout",
     "output_type": "stream",
     "text": [
      "2\n",
      "4\n"
     ]
    }
   ],
   "source": [
    "#x-axis\n",
    "print(np.size(arr, 0))\n",
    "\n",
    "#y-axis\n",
    "print(np.size(arr, 1))"
   ]
  },
  {
   "cell_type": "markdown",
   "id": "7185d9ab",
   "metadata": {},
   "source": [
    "#### - Trim the leading and/or trailing zeros from a 1-D array"
   ]
  },
  {
   "cell_type": "code",
   "execution_count": 40,
   "id": "8aee5eb4",
   "metadata": {},
   "outputs": [
    {
     "data": {
      "text/plain": [
       "array([ 0,  0,  0,  0,  1,  5,  7,  0,  6,  2,  9,  0, 10,  0,  0])"
      ]
     },
     "execution_count": 40,
     "metadata": {},
     "output_type": "execute_result"
    }
   ],
   "source": [
    "arr = np.array((0, 0, 0, 0, 1, 5, 7, 0, 6, 2, 9, 0, 10, 0, 0))\n",
    "arr"
   ]
  },
  {
   "cell_type": "code",
   "execution_count": 41,
   "id": "a7c4282c",
   "metadata": {},
   "outputs": [
    {
     "data": {
      "text/plain": [
       "array([ 1,  5,  7,  0,  6,  2,  9,  0, 10])"
      ]
     },
     "execution_count": 41,
     "metadata": {},
     "output_type": "execute_result"
    }
   ],
   "source": [
    "np.trim_zeros(arr)"
   ]
  },
  {
   "cell_type": "markdown",
   "id": "d0895bcb",
   "metadata": {},
   "source": [
    "#### - Change data type of given numpy array"
   ]
  },
  {
   "cell_type": "code",
   "execution_count": 42,
   "id": "d7877e46",
   "metadata": {},
   "outputs": [
    {
     "name": "stdout",
     "output_type": "stream",
     "text": [
      "[ 5 10 15 20 25]\n",
      "int32\n"
     ]
    }
   ],
   "source": [
    "arr = np.array([5, 10, 15, 20, 25])\n",
    "\n",
    "print(arr)\n",
    "print(arr.dtype)"
   ]
  },
  {
   "cell_type": "code",
   "execution_count": 43,
   "id": "406aa91a",
   "metadata": {},
   "outputs": [
    {
     "name": "stdout",
     "output_type": "stream",
     "text": [
      "[ 5. 10. 15. 20. 25.]\n",
      "float64\n"
     ]
    }
   ],
   "source": [
    "arr = arr.astype('float64')\n",
    "\n",
    "print(arr)\n",
    "print(arr.dtype)"
   ]
  },
  {
   "cell_type": "markdown",
   "id": "531bf587",
   "metadata": {},
   "source": [
    "#### - Reverse a numpy array "
   ]
  },
  {
   "cell_type": "code",
   "execution_count": 44,
   "id": "7ba89348",
   "metadata": {},
   "outputs": [
    {
     "data": {
      "text/plain": [
       "array([1, 2, 3, 4, 5])"
      ]
     },
     "execution_count": 44,
     "metadata": {},
     "output_type": "execute_result"
    }
   ],
   "source": [
    "ini_arr = np.array([1, 2, 3, 4, 5])\n",
    "ini_arr"
   ]
  },
  {
   "cell_type": "code",
   "execution_count": 45,
   "id": "f0e49611",
   "metadata": {},
   "outputs": [
    {
     "data": {
      "text/plain": [
       "array([5, 4, 3, 2, 1])"
      ]
     },
     "execution_count": 45,
     "metadata": {},
     "output_type": "execute_result"
    }
   ],
   "source": [
    "res = ini_arr[::-1]\n",
    "res"
   ]
  },
  {
   "cell_type": "markdown",
   "id": "1587b872",
   "metadata": {},
   "source": [
    "#### - How to make a NumPy array read-only? "
   ]
  },
  {
   "cell_type": "code",
   "execution_count": 46,
   "id": "c0399ba9",
   "metadata": {},
   "outputs": [
    {
     "data": {
      "text/plain": [
       "array([0., 0., 0., 0., 0., 0., 0., 0., 0., 0., 0.])"
      ]
     },
     "execution_count": 46,
     "metadata": {},
     "output_type": "execute_result"
    }
   ],
   "source": [
    "arr = np.zeros(11)\n",
    "arr"
   ]
  },
  {
   "cell_type": "code",
   "execution_count": 47,
   "id": "bc9070f6",
   "metadata": {},
   "outputs": [
    {
     "data": {
      "text/plain": [
       "array([0., 0., 2., 0., 0., 0., 0., 0., 0., 0., 0.])"
      ]
     },
     "execution_count": 47,
     "metadata": {},
     "output_type": "execute_result"
    }
   ],
   "source": [
    "arr[2] = 2\n",
    "arr"
   ]
  },
  {
   "cell_type": "code",
   "execution_count": 48,
   "id": "cce7b1df",
   "metadata": {},
   "outputs": [],
   "source": [
    "arr.flags.writeable = False\n",
    "\n",
    "# arr[1] = 3"
   ]
  },
  {
   "cell_type": "markdown",
   "id": "161a4155",
   "metadata": {},
   "source": [
    "## Questions on NumPy Matrix"
   ]
  },
  {
   "cell_type": "markdown",
   "id": "a5166fa2",
   "metadata": {},
   "source": [
    "#### - Get the maximum value from given matrix"
   ]
  },
  {
   "cell_type": "code",
   "execution_count": 49,
   "id": "f64d0975",
   "metadata": {},
   "outputs": [
    {
     "data": {
      "text/plain": [
       "matrix([[ 0,  1,  2,  3],\n",
       "        [ 4,  5,  6,  7],\n",
       "        [ 8,  9, 10, 11],\n",
       "        [12, 13, 14, 15]])"
      ]
     },
     "execution_count": 49,
     "metadata": {},
     "output_type": "execute_result"
    }
   ],
   "source": [
    "m = np.matrix(np.arange(16).reshape((4, 4)))\n",
    "m"
   ]
  },
  {
   "cell_type": "code",
   "execution_count": 50,
   "id": "047c58fd",
   "metadata": {},
   "outputs": [
    {
     "data": {
      "text/plain": [
       "15"
      ]
     },
     "execution_count": 50,
     "metadata": {},
     "output_type": "execute_result"
    }
   ],
   "source": [
    "m.max()"
   ]
  },
  {
   "cell_type": "markdown",
   "id": "f222c293",
   "metadata": {},
   "source": [
    "#### - Get the minimum value from given matrix"
   ]
  },
  {
   "cell_type": "code",
   "execution_count": 51,
   "id": "6945e915",
   "metadata": {},
   "outputs": [
    {
     "data": {
      "text/plain": [
       "matrix([[ 0,  1,  2,  3],\n",
       "        [ 4,  5,  6,  7],\n",
       "        [ 8,  9, 10, 11],\n",
       "        [12, 13, 14, 15]])"
      ]
     },
     "execution_count": 51,
     "metadata": {},
     "output_type": "execute_result"
    }
   ],
   "source": [
    "m = np.matrix(np.arange(16).reshape((4, 4)))\n",
    "m"
   ]
  },
  {
   "cell_type": "code",
   "execution_count": 52,
   "id": "b50946de",
   "metadata": {},
   "outputs": [
    {
     "data": {
      "text/plain": [
       "0"
      ]
     },
     "execution_count": 52,
     "metadata": {},
     "output_type": "execute_result"
    }
   ],
   "source": [
    "m.min()"
   ]
  },
  {
   "cell_type": "markdown",
   "id": "947638f9",
   "metadata": {},
   "source": [
    "#### - Find the number of rows and columns of a given matrix using NumPy"
   ]
  },
  {
   "cell_type": "code",
   "execution_count": 53,
   "id": "a9d72a8a",
   "metadata": {},
   "outputs": [
    {
     "data": {
      "text/plain": [
       "matrix([[ 0,  1,  2,  3],\n",
       "        [ 4,  5,  6,  7],\n",
       "        [ 8,  9, 10, 11],\n",
       "        [12, 13, 14, 15]])"
      ]
     },
     "execution_count": 53,
     "metadata": {},
     "output_type": "execute_result"
    }
   ],
   "source": [
    "m = np.matrix(np.arange(16).reshape((4, 4)))\n",
    "m"
   ]
  },
  {
   "cell_type": "code",
   "execution_count": 54,
   "id": "ff2e298a",
   "metadata": {},
   "outputs": [
    {
     "data": {
      "text/plain": [
       "(4, 4)"
      ]
     },
     "execution_count": 54,
     "metadata": {},
     "output_type": "execute_result"
    }
   ],
   "source": [
    "m.shape"
   ]
  },
  {
   "cell_type": "markdown",
   "id": "ecc50320",
   "metadata": {},
   "source": [
    "#### - Select the elements from a given matrix"
   ]
  },
  {
   "cell_type": "code",
   "execution_count": 55,
   "id": "3caa3588",
   "metadata": {},
   "outputs": [
    {
     "data": {
      "text/plain": [
       "matrix([[ 0,  1,  2,  3],\n",
       "        [ 4,  5,  6,  7],\n",
       "        [ 8,  9, 10, 11],\n",
       "        [12, 13, 14, 15]])"
      ]
     },
     "execution_count": 55,
     "metadata": {},
     "output_type": "execute_result"
    }
   ],
   "source": [
    "m = np.matrix(np.arange(16).reshape((4, 4)))\n",
    "m"
   ]
  },
  {
   "cell_type": "code",
   "execution_count": 56,
   "id": "645e4566",
   "metadata": {},
   "outputs": [
    {
     "data": {
      "text/plain": [
       "matrix([[ 0,  1,  2,  3],\n",
       "        [ 4,  5,  6,  7],\n",
       "        [12, 13, 14, 15]])"
      ]
     },
     "execution_count": 56,
     "metadata": {},
     "output_type": "execute_result"
    }
   ],
   "source": [
    "# Returns the rows you want\n",
    "m[[0,1,3], :]"
   ]
  },
  {
   "cell_type": "markdown",
   "id": "8f57e640",
   "metadata": {},
   "source": [
    "#### - Find the sum of values in a matrix"
   ]
  },
  {
   "cell_type": "code",
   "execution_count": 57,
   "id": "c8ab5cd2",
   "metadata": {},
   "outputs": [
    {
     "data": {
      "text/plain": [
       "matrix([[ 0,  1,  2,  3],\n",
       "        [ 4,  5,  6,  7],\n",
       "        [ 8,  9, 10, 11],\n",
       "        [12, 13, 14, 15]])"
      ]
     },
     "execution_count": 57,
     "metadata": {},
     "output_type": "execute_result"
    }
   ],
   "source": [
    "m = np.matrix(np.arange(16).reshape((4, 4)))\n",
    "m"
   ]
  },
  {
   "cell_type": "code",
   "execution_count": 58,
   "id": "5dac03f4",
   "metadata": {},
   "outputs": [
    {
     "data": {
      "text/plain": [
       "120"
      ]
     },
     "execution_count": 58,
     "metadata": {},
     "output_type": "execute_result"
    }
   ],
   "source": [
    "m.sum()"
   ]
  },
  {
   "cell_type": "markdown",
   "id": "37bb17d4",
   "metadata": {},
   "source": [
    "#### - Calculate the sum of the diagonal elements of a NumPy array"
   ]
  },
  {
   "cell_type": "code",
   "execution_count": 59,
   "id": "d9972961",
   "metadata": {},
   "outputs": [
    {
     "data": {
      "text/plain": [
       "array([[1, 2, 3],\n",
       "       [4, 5, 6],\n",
       "       [7, 8, 9]])"
      ]
     },
     "execution_count": 59,
     "metadata": {},
     "output_type": "execute_result"
    }
   ],
   "source": [
    "arr = np.array([[1, 2, 3], [4, 5, 6], [7, 8, 9]])\n",
    "arr"
   ]
  },
  {
   "cell_type": "code",
   "execution_count": 60,
   "id": "357c6b13",
   "metadata": {},
   "outputs": [
    {
     "data": {
      "text/plain": [
       "15"
      ]
     },
     "execution_count": 60,
     "metadata": {},
     "output_type": "execute_result"
    }
   ],
   "source": [
    "trace = np.trace(arr)\n",
    "trace"
   ]
  },
  {
   "cell_type": "markdown",
   "id": "1f0e2e30",
   "metadata": {},
   "source": [
    "#### - Adding and Subtracting Matrices in Python "
   ]
  },
  {
   "cell_type": "code",
   "execution_count": 61,
   "id": "90a5535b",
   "metadata": {},
   "outputs": [],
   "source": [
    "A = np.array([[1, 2], [3, 4]])\n",
    "B = np.array([[4, 5], [6, 7]])"
   ]
  },
  {
   "cell_type": "code",
   "execution_count": 62,
   "id": "61c93d7b",
   "metadata": {},
   "outputs": [
    {
     "data": {
      "text/plain": [
       "array([[ 5,  7],\n",
       "       [ 9, 11]])"
      ]
     },
     "execution_count": 62,
     "metadata": {},
     "output_type": "execute_result"
    }
   ],
   "source": [
    "np.add(A, B)"
   ]
  },
  {
   "cell_type": "code",
   "execution_count": 63,
   "id": "605ff9ff",
   "metadata": {},
   "outputs": [
    {
     "data": {
      "text/plain": [
       "array([[-3, -3],\n",
       "       [-3, -3]])"
      ]
     },
     "execution_count": 63,
     "metadata": {},
     "output_type": "execute_result"
    }
   ],
   "source": [
    "np.subtract(A, B)"
   ]
  },
  {
   "cell_type": "markdown",
   "id": "1d3b0a47",
   "metadata": {},
   "source": [
    "#### - Ways to add row/columns in numpy array"
   ]
  },
  {
   "cell_type": "code",
   "execution_count": 64,
   "id": "91653984",
   "metadata": {},
   "outputs": [
    {
     "data": {
      "text/plain": [
       "array([[1, 2, 3],\n",
       "       [4, 5, 6],\n",
       "       [7, 8, 9]])"
      ]
     },
     "execution_count": 64,
     "metadata": {},
     "output_type": "execute_result"
    }
   ],
   "source": [
    "arr = np.array([[1, 2, 3], [4, 5, 6], [7, 8, 9]])\n",
    "arr"
   ]
  },
  {
   "cell_type": "code",
   "execution_count": 65,
   "id": "58ffadd9",
   "metadata": {},
   "outputs": [
    {
     "data": {
      "text/plain": [
       "array([[1, 2, 3, 1],\n",
       "       [4, 5, 6, 2],\n",
       "       [7, 8, 9, 3]])"
      ]
     },
     "execution_count": 65,
     "metadata": {},
     "output_type": "execute_result"
    }
   ],
   "source": [
    "add = np.array([1, 2, 3])\n",
    "\n",
    "result = np.hstack((arr, np.atleast_2d(add).T))\n",
    "result"
   ]
  },
  {
   "cell_type": "markdown",
   "id": "5df2b53f",
   "metadata": {},
   "source": [
    "#### - Matrix Multiplication in NumPy"
   ]
  },
  {
   "cell_type": "code",
   "execution_count": 66,
   "id": "e90c111b",
   "metadata": {},
   "outputs": [
    {
     "data": {
      "text/plain": [
       "array([[ 30,  36,  42],\n",
       "       [ 66,  81,  96],\n",
       "       [102, 126, 150]])"
      ]
     },
     "execution_count": 66,
     "metadata": {},
     "output_type": "execute_result"
    }
   ],
   "source": [
    "m_1 = np.array([[1, 2, 3], [4, 5, 6], [7, 8, 9]])\n",
    "m_2 = np.array([[1, 2, 3], [4, 5, 6], [7, 8, 9]])\n",
    "\n",
    "res = np.dot(m_1, m_2)\n",
    "res"
   ]
  },
  {
   "cell_type": "markdown",
   "id": "07459e8b",
   "metadata": {},
   "source": [
    "#### - Get the eigen values of a matrix"
   ]
  },
  {
   "cell_type": "code",
   "execution_count": 67,
   "id": "04724154",
   "metadata": {},
   "outputs": [
    {
     "data": {
      "text/plain": [
       "array([[1, 2],\n",
       "       [2, 3]])"
      ]
     },
     "execution_count": 67,
     "metadata": {},
     "output_type": "execute_result"
    }
   ],
   "source": [
    "m = np.array([[1, 2], [2, 3]])\n",
    "m"
   ]
  },
  {
   "cell_type": "code",
   "execution_count": 68,
   "id": "5a5fcda8",
   "metadata": {},
   "outputs": [
    {
     "data": {
      "text/plain": [
       "array([-0.23606798,  4.23606798])"
      ]
     },
     "execution_count": 68,
     "metadata": {},
     "output_type": "execute_result"
    }
   ],
   "source": [
    "eigenvalues, eigenvectors = np.linalg.eig(m)\n",
    "\n",
    "eigenvalues"
   ]
  },
  {
   "cell_type": "markdown",
   "id": "c093c26e",
   "metadata": {},
   "source": [
    "#### - How to Calculate the determinant of a matrix using NumPy?"
   ]
  },
  {
   "cell_type": "code",
   "execution_count": 69,
   "id": "7c74a0ae",
   "metadata": {},
   "outputs": [
    {
     "data": {
      "text/plain": [
       "array([[10,  2],\n",
       "       [ 9,  4]])"
      ]
     },
     "execution_count": 69,
     "metadata": {},
     "output_type": "execute_result"
    }
   ],
   "source": [
    "m = np.array([[10, 2], [9, 4]])\n",
    "m"
   ]
  },
  {
   "cell_type": "code",
   "execution_count": 70,
   "id": "349d3275",
   "metadata": {},
   "outputs": [
    {
     "data": {
      "text/plain": [
       "22"
      ]
     },
     "execution_count": 70,
     "metadata": {},
     "output_type": "execute_result"
    }
   ],
   "source": [
    "det = np.linalg.det(m)\n",
    "int(det)"
   ]
  },
  {
   "cell_type": "markdown",
   "id": "033d7e4b",
   "metadata": {},
   "source": [
    "#### - How to inverse a matrix using NumPy "
   ]
  },
  {
   "cell_type": "code",
   "execution_count": 71,
   "id": "f4bf2238",
   "metadata": {},
   "outputs": [
    {
     "data": {
      "text/plain": [
       "array([[1, 2, 3],\n",
       "       [4, 5, 6],\n",
       "       [7, 8, 9]])"
      ]
     },
     "execution_count": 71,
     "metadata": {},
     "output_type": "execute_result"
    }
   ],
   "source": [
    "m = np.array([[1, 2, 3], [4, 5, 6], [7, 8, 9]])\n",
    "m"
   ]
  },
  {
   "cell_type": "code",
   "execution_count": 72,
   "id": "1ed6ccdf",
   "metadata": {},
   "outputs": [
    {
     "data": {
      "text/plain": [
       "array([[ 3.15251974e+15, -6.30503948e+15,  3.15251974e+15],\n",
       "       [-6.30503948e+15,  1.26100790e+16, -6.30503948e+15],\n",
       "       [ 3.15251974e+15, -6.30503948e+15,  3.15251974e+15]])"
      ]
     },
     "execution_count": 72,
     "metadata": {},
     "output_type": "execute_result"
    }
   ],
   "source": [
    "np.linalg.inv(m)"
   ]
  },
  {
   "cell_type": "markdown",
   "id": "7cf1771f",
   "metadata": {},
   "source": [
    "#### - How to count the frequency of unique values in NumPy array?"
   ]
  },
  {
   "cell_type": "code",
   "execution_count": 73,
   "id": "09ad3ba2",
   "metadata": {},
   "outputs": [
    {
     "name": "stdout",
     "output_type": "stream",
     "text": [
      "Unique Values: [ 2  5  7 10 12 20]\n",
      "Frequency Values: [2 2 1 2 1 1]\n"
     ]
    }
   ],
   "source": [
    "arr = np.array([5, 10, 5, 20, 12, 2, 7, 2, 10])\n",
    "\n",
    "uni, freq = np.unique(arr, return_counts = True)\n",
    "\n",
    "print(\"Unique Values:\", uni)\n",
    "print(\"Frequency Values:\", freq)"
   ]
  },
  {
   "cell_type": "markdown",
   "id": "13e56013",
   "metadata": {},
   "source": [
    "#### - Multiply matrices of complex numbers using NumPy in Python "
   ]
  },
  {
   "cell_type": "code",
   "execution_count": 74,
   "id": "a96044db",
   "metadata": {},
   "outputs": [
    {
     "name": "stdout",
     "output_type": "stream",
     "text": [
      "[[2.+3.j 4.+5.j]\n",
      " [4.+5.j 6.+7.j]]\n",
      "\n",
      "[[8. +7.j 5. +6.j]\n",
      " [9.+10.j 1. +2.j]]\n"
     ]
    }
   ],
   "source": [
    "m = np.array([[2+3j, 4+5j], [4+5j, 6+7j]])\n",
    "n = np.array([[8+7j, 5+6j], [9+10j, 1+2j]])\n",
    "\n",
    "print(m)\n",
    "print()\n",
    "print(n)"
   ]
  },
  {
   "cell_type": "code",
   "execution_count": 75,
   "id": "71492dc1",
   "metadata": {},
   "outputs": [
    {
     "name": "stdout",
     "output_type": "stream",
     "text": [
      "(193-11j)\n"
     ]
    }
   ],
   "source": [
    "resp = np.vdot(m, n)\n",
    "print(resp)\n"
   ]
  },
  {
   "cell_type": "markdown",
   "id": "18c7a07a",
   "metadata": {},
   "source": [
    "#### - Compute the outer product of two given vectors using NumPy in Python"
   ]
  },
  {
   "cell_type": "code",
   "execution_count": 76,
   "id": "55c65ec8",
   "metadata": {},
   "outputs": [
    {
     "name": "stdout",
     "output_type": "stream",
     "text": [
      "[[1 2]\n",
      " [3 4]]\n",
      "\n",
      "[[0 1]\n",
      " [2 5]]\n"
     ]
    }
   ],
   "source": [
    "m_1 = np.array([[1, 2], [3, 4]])\n",
    "m_2 = np.array([[0, 1], [2, 5]])\n",
    "\n",
    "print(m_1)\n",
    "print()\n",
    "print(m_2)"
   ]
  },
  {
   "cell_type": "code",
   "execution_count": 77,
   "id": "67081e46",
   "metadata": {},
   "outputs": [
    {
     "data": {
      "text/plain": [
       "array([[ 0,  1,  2,  5],\n",
       "       [ 0,  2,  4, 10],\n",
       "       [ 0,  3,  6, 15],\n",
       "       [ 0,  4,  8, 20]])"
      ]
     },
     "execution_count": 77,
     "metadata": {},
     "output_type": "execute_result"
    }
   ],
   "source": [
    "result = np.outer(m_1, m_2)\n",
    "result"
   ]
  },
  {
   "cell_type": "markdown",
   "id": "74f900c3",
   "metadata": {},
   "source": [
    "#### - Calculate inner, outer, and cross products of matrices and vectors using NumPy"
   ]
  },
  {
   "cell_type": "code",
   "execution_count": 78,
   "id": "14daa262",
   "metadata": {},
   "outputs": [
    {
     "name": "stdout",
     "output_type": "stream",
     "text": [
      "Vectors :\n",
      "a =  [1 2]\n",
      "b =  [3 4]\n",
      "\n",
      "Inner :  11\n",
      "\n",
      "Outer :  [[3 4]\n",
      " [6 8]]\n",
      "\n",
      "Cross :  -2\n"
     ]
    }
   ],
   "source": [
    "arr_a = np.array([1, 2])\n",
    "arr_b = np.array([3, 4])\n",
    "print(\"Vectors :\")\n",
    "print(\"a = \", arr_a)\n",
    "print(\"b = \", arr_b)\n",
    "\n",
    "print(\"\\nInner : \", np.inner(arr_a, arr_b))\n",
    "print(\"\\nOuter : \", np.outer(arr_a, arr_b))\n",
    "print(\"\\nCross : \", np.cross(arr_a, arr_b))"
   ]
  },
  {
   "cell_type": "code",
   "execution_count": 79,
   "id": "9b514876",
   "metadata": {},
   "outputs": [
    {
     "name": "stdout",
     "output_type": "stream",
     "text": [
      "\n",
      "Matrices :\n",
      "a = [[6 3 4]\n",
      " [3 2 4]]\n",
      "b = [[ 1  8  0]\n",
      " [ 7 10  3]]\n",
      "\n",
      "Inner :  [[30 84]\n",
      " [19 53]]\n",
      "\n",
      "Outer :  [[ 6 48  0 42 60 18]\n",
      " [ 3 24  0 21 30  9]\n",
      " [ 4 32  0 28 40 12]\n",
      " [ 3 24  0 21 30  9]\n",
      " [ 2 16  0 14 20  6]\n",
      " [ 4 32  0 28 40 12]]\n",
      "\n",
      "Cross :  [[-32   4  45]\n",
      " [-34  19  16]]\n"
     ]
    }
   ],
   "source": [
    "m_a = np.array([[6, 3, 4], [3, 2, 4]])\n",
    "m_b = np.array([[1, 8, 0], [7, 10, 3]])\n",
    "print(\"\\nMatrices :\")\n",
    "print(\"a =\", m_a)\n",
    "print(\"b =\", m_b)\n",
    "\n",
    "print(\"\\nInner : \", np.inner(m_a, m_b))\n",
    "print(\"\\nOuter : \", np.outer(m_a, m_b))\n",
    "print(\"\\nCross : \", np.cross(m_a, m_b))"
   ]
  },
  {
   "cell_type": "markdown",
   "id": "e38ec1ca",
   "metadata": {},
   "source": [
    "#### - Compute the covariance matrix of two given NumPy arrays"
   ]
  },
  {
   "cell_type": "code",
   "execution_count": 80,
   "id": "175f7cd4",
   "metadata": {},
   "outputs": [
    {
     "name": "stdout",
     "output_type": "stream",
     "text": [
      "[2 1 1 4]\n",
      "\n",
      "[2 2 1 1]\n"
     ]
    }
   ],
   "source": [
    "array1 = np.array([2, 1, 1, 4])\n",
    "array2 = np.array([2, 2, 1, 1])\n",
    "\n",
    "print(array1)\n",
    "print()\n",
    "print(array2)"
   ]
  },
  {
   "cell_type": "code",
   "execution_count": 81,
   "id": "ef2e1ee3",
   "metadata": {},
   "outputs": [
    {
     "name": "stdout",
     "output_type": "stream",
     "text": [
      "\n",
      "Covariance: \n",
      " [[ 2.         -0.33333333]\n",
      " [-0.33333333  0.33333333]]\n"
     ]
    }
   ],
   "source": [
    "covariance = np.cov(array1, array2)\n",
    "print(\"\\nCovariance: \\n\", covariance)"
   ]
  },
  {
   "cell_type": "markdown",
   "id": "bde55696",
   "metadata": {},
   "source": [
    "#### - Convert covariance matrix to correlation matrix using Python "
   ]
  },
  {
   "cell_type": "code",
   "execution_count": null,
   "id": "cb37d099",
   "metadata": {},
   "outputs": [],
   "source": []
  },
  {
   "cell_type": "markdown",
   "id": "e1f9a1d4",
   "metadata": {},
   "source": [
    "#### - Compute the Kronecker product of two mulitdimension NumPy arrays\n"
   ]
  },
  {
   "cell_type": "code",
   "execution_count": 83,
   "id": "f66b71c0",
   "metadata": {},
   "outputs": [
    {
     "name": "stdout",
     "output_type": "stream",
     "text": [
      "[[1 2]\n",
      " [3 4]]\n",
      "\n",
      "[[5 6]\n",
      " [7 8]]\n"
     ]
    }
   ],
   "source": [
    "arr_1 = np.array([[1, 2], [3, 4]])\n",
    "arr_2 = np.array([[5, 6], [7, 8]])\n",
    "\n",
    "print(arr_1)\n",
    "print()\n",
    "print(arr_2)"
   ]
  },
  {
   "cell_type": "code",
   "execution_count": 84,
   "id": "ef9a87b5",
   "metadata": {},
   "outputs": [
    {
     "name": "stdout",
     "output_type": "stream",
     "text": [
      "[[ 5  6 10 12]\n",
      " [ 7  8 14 16]\n",
      " [15 18 20 24]\n",
      " [21 24 28 32]]\n"
     ]
    }
   ],
   "source": [
    "kroneckerProduct = np.kron(arr_1, arr_2)\n",
    "print(kroneckerProduct)"
   ]
  },
  {
   "cell_type": "markdown",
   "id": "d1d2c829",
   "metadata": {},
   "source": [
    "#### - Convert the matrix into a list"
   ]
  },
  {
   "cell_type": "code",
   "execution_count": 85,
   "id": "b262de8c",
   "metadata": {},
   "outputs": [
    {
     "data": {
      "text/plain": [
       "matrix([[0, 1, 2],\n",
       "        [3, 4, 5],\n",
       "        [6, 7, 8]])"
      ]
     },
     "execution_count": 85,
     "metadata": {},
     "output_type": "execute_result"
    }
   ],
   "source": [
    "m = np.matrix(np.arange(9).reshape((3,3)))\n",
    "m"
   ]
  },
  {
   "cell_type": "code",
   "execution_count": 86,
   "id": "21bc4682",
   "metadata": {},
   "outputs": [
    {
     "data": {
      "text/plain": [
       "[[0, 1, 2], [3, 4, 5], [6, 7, 8]]"
      ]
     },
     "execution_count": 86,
     "metadata": {},
     "output_type": "execute_result"
    }
   ],
   "source": [
    "m.tolist()"
   ]
  },
  {
   "cell_type": "markdown",
   "id": "d999cc74",
   "metadata": {},
   "source": [
    "## Questions on NumPy Indexing"
   ]
  },
  {
   "cell_type": "markdown",
   "id": "c4c25019",
   "metadata": {},
   "source": [
    "#### - Replace NumPy array elements that doesn’t satisfy the given condition"
   ]
  },
  {
   "cell_type": "code",
   "execution_count": 87,
   "id": "f08699d6",
   "metadata": {},
   "outputs": [
    {
     "data": {
      "text/plain": [
       "array([65.315 , 38.8583, 15.763 ])"
      ]
     },
     "execution_count": 87,
     "metadata": {},
     "output_type": "execute_result"
    }
   ],
   "source": [
    "arr = np.array([65.315, 38.8583, 15.763])\n",
    "arr"
   ]
  },
  {
   "cell_type": "code",
   "execution_count": 88,
   "id": "823e9bb9",
   "metadata": {},
   "outputs": [
    {
     "data": {
      "text/plain": [
       "array([15.5  , 15.5  , 15.763])"
      ]
     },
     "execution_count": 88,
     "metadata": {},
     "output_type": "execute_result"
    }
   ],
   "source": [
    "arr[arr > 30.] = 15.50\n",
    "arr"
   ]
  },
  {
   "cell_type": "markdown",
   "id": "4ffbc14b",
   "metadata": {},
   "source": [
    "#### - Return the indices of elements where the given condition is satisfied"
   ]
  },
  {
   "cell_type": "code",
   "execution_count": 89,
   "id": "cd9d8f87",
   "metadata": {},
   "outputs": [
    {
     "data": {
      "text/plain": [
       "array([[1, 2, 3],\n",
       "       [4, 5, 6]])"
      ]
     },
     "execution_count": 89,
     "metadata": {},
     "output_type": "execute_result"
    }
   ],
   "source": [
    "arr = np.array([[1, 2, 3], [4, 5, 6]])\n",
    "arr"
   ]
  },
  {
   "cell_type": "code",
   "execution_count": 90,
   "id": "054980b9",
   "metadata": {},
   "outputs": [
    {
     "data": {
      "text/plain": [
       "array([1, 2, 3])"
      ]
     },
     "execution_count": 90,
     "metadata": {},
     "output_type": "execute_result"
    }
   ],
   "source": [
    "condition = np.where(arr < 4)\n",
    "\n",
    "arr[condition]"
   ]
  },
  {
   "cell_type": "markdown",
   "id": "2336ab5d",
   "metadata": {},
   "source": [
    "#### - Replace NaN values with average of columns"
   ]
  },
  {
   "cell_type": "code",
   "execution_count": 91,
   "id": "ade91f40",
   "metadata": {},
   "outputs": [
    {
     "data": {
      "text/plain": [
       "array([[1.3, 2.5, 3.6, nan],\n",
       "       [2.6, 3.3, nan, 5.5],\n",
       "       [2.1, 3.2, 5.4, 6.5]])"
      ]
     },
     "execution_count": 91,
     "metadata": {},
     "output_type": "execute_result"
    }
   ],
   "source": [
    "arr = np.array([[1.3, 2.5, 3.6, np.nan], [2.6, 3.3, np.nan, 5.5], [2.1, 3.2, 5.4, 6.5]])\n",
    "arr"
   ]
  },
  {
   "cell_type": "code",
   "execution_count": 92,
   "id": "8cd929a0",
   "metadata": {},
   "outputs": [
    {
     "data": {
      "text/plain": [
       "array([[1.3, 2.5, 3.6, 6. ],\n",
       "       [2.6, 3.3, 4.5, 5.5],\n",
       "       [2.1, 3.2, 5.4, 6.5]])"
      ]
     },
     "execution_count": 92,
     "metadata": {},
     "output_type": "execute_result"
    }
   ],
   "source": [
    "mean = np.nanmean(arr, axis = 0)\n",
    "inds = np.where(np.isnan(arr))\n",
    "\n",
    "arr[inds] = np.take(mean, inds[1])\n",
    "\n",
    "arr"
   ]
  },
  {
   "cell_type": "markdown",
   "id": "6235311c",
   "metadata": {},
   "source": [
    "#### - Replace negative value with zero in numpy array "
   ]
  },
  {
   "cell_type": "code",
   "execution_count": 93,
   "id": "95743340",
   "metadata": {},
   "outputs": [
    {
     "data": {
      "text/plain": [
       "array([ 1, -2,  3,  4, -5, -6])"
      ]
     },
     "execution_count": 93,
     "metadata": {},
     "output_type": "execute_result"
    }
   ],
   "source": [
    "arr = np.array([1, -2, 3, 4, -5, -6])\n",
    "arr"
   ]
  },
  {
   "cell_type": "code",
   "execution_count": 94,
   "id": "546ce529",
   "metadata": {},
   "outputs": [
    {
     "data": {
      "text/plain": [
       "array([1, 0, 3, 4, 0, 0])"
      ]
     },
     "execution_count": 94,
     "metadata": {},
     "output_type": "execute_result"
    }
   ],
   "source": [
    "arr[arr < 0] = 0\n",
    "arr"
   ]
  },
  {
   "cell_type": "markdown",
   "id": "b5cab09c",
   "metadata": {},
   "source": [
    "#### - How to get values of an NumPy array at certain index positions?"
   ]
  },
  {
   "cell_type": "code",
   "execution_count": 95,
   "id": "079e6d53",
   "metadata": {},
   "outputs": [
    {
     "name": "stdout",
     "output_type": "stream",
     "text": [
      "[1 2]\n",
      "5\n"
     ]
    }
   ],
   "source": [
    "arr = np.array([1, 2, 3, 4, 5])\n",
    "\n",
    "print(arr[0: 2])\n",
    "print(arr[-1])"
   ]
  },
  {
   "cell_type": "markdown",
   "id": "1e045d30",
   "metadata": {},
   "source": [
    "#### - Find indices of elements equal to zero in a NumPy array"
   ]
  },
  {
   "cell_type": "code",
   "execution_count": 96,
   "id": "1d93f0a4",
   "metadata": {},
   "outputs": [
    {
     "data": {
      "text/plain": [
       "array([ 1,  2,  0,  4,  0,  5,  0,  7,  8,  0,  9,  0, 10])"
      ]
     },
     "execution_count": 96,
     "metadata": {},
     "output_type": "execute_result"
    }
   ],
   "source": [
    "arr = np.array([1, 2, 0, 4, 0, 5, 0, 7, 8, 0, 9, 0, 10])\n",
    "arr"
   ]
  },
  {
   "cell_type": "code",
   "execution_count": 97,
   "id": "ee0b1fe3",
   "metadata": {},
   "outputs": [
    {
     "data": {
      "text/plain": [
       "array([ 2,  4,  6,  9, 11], dtype=int64)"
      ]
     },
     "execution_count": 97,
     "metadata": {},
     "output_type": "execute_result"
    }
   ],
   "source": [
    "res = np.where(arr == 0)[0]\n",
    "res"
   ]
  },
  {
   "cell_type": "markdown",
   "id": "cfe62da6",
   "metadata": {},
   "source": [
    "#### - How to Remove columns in Numpy array that contains non-numeric values?"
   ]
  },
  {
   "cell_type": "code",
   "execution_count": 98,
   "id": "7aee5fc1",
   "metadata": {},
   "outputs": [
    {
     "data": {
      "text/plain": [
       "array([[ 8., 21., nan],\n",
       "       [nan,  5., nan]])"
      ]
     },
     "execution_count": 98,
     "metadata": {},
     "output_type": "execute_result"
    }
   ],
   "source": [
    "arr = np.array([[8, 21, np.nan], [np.nan, 5, np.nan]])\n",
    "arr"
   ]
  },
  {
   "cell_type": "code",
   "execution_count": 99,
   "id": "93e0cc6c",
   "metadata": {},
   "outputs": [
    {
     "data": {
      "text/plain": [
       "array([[21.],\n",
       "       [ 5.]])"
      ]
     },
     "execution_count": 99,
     "metadata": {},
     "output_type": "execute_result"
    }
   ],
   "source": [
    "arr[:, ~np.isnan(arr).any(axis=0)]"
   ]
  },
  {
   "cell_type": "markdown",
   "id": "25a5b8fe",
   "metadata": {},
   "source": [
    "#### - How to access different rows of a multidimensional NumPy array?"
   ]
  },
  {
   "cell_type": "code",
   "execution_count": 100,
   "id": "8bdc9e1a",
   "metadata": {},
   "outputs": [
    {
     "data": {
      "text/plain": [
       "array([[10, 20, 30],\n",
       "       [40, 50, 60],\n",
       "       [70, 80, 90]])"
      ]
     },
     "execution_count": 100,
     "metadata": {},
     "output_type": "execute_result"
    }
   ],
   "source": [
    "arr = np.array([[10, 20, 30], [40, 50, 60], [70, 80, 90]])\n",
    "arr"
   ]
  },
  {
   "cell_type": "code",
   "execution_count": 101,
   "id": "5cabc85d",
   "metadata": {},
   "outputs": [
    {
     "data": {
      "text/plain": [
       "array([[10, 20, 30],\n",
       "       [70, 80, 90]])"
      ]
     },
     "execution_count": 101,
     "metadata": {},
     "output_type": "execute_result"
    }
   ],
   "source": [
    "res_arr = arr[[0,2]]\n",
    "res_arr"
   ]
  },
  {
   "cell_type": "markdown",
   "id": "d905ce24",
   "metadata": {},
   "source": [
    "#### - Get row numbers of NumPy array having element larger than X "
   ]
  },
  {
   "cell_type": "code",
   "execution_count": 102,
   "id": "ca0b7999",
   "metadata": {},
   "outputs": [
    {
     "data": {
      "text/plain": [
       "array([[  0,   2,   2,   4,   8],\n",
       "       [  6,  -5,   0,   0,  -5],\n",
       "       [  2,   1,   5, -25,   6],\n",
       "       [ 52,   0,  65, -35,   0]])"
      ]
     },
     "execution_count": 102,
     "metadata": {},
     "output_type": "execute_result"
    }
   ],
   "source": [
    "arr = np.array([[0, 2, 2, 4, 8], [6, -5, 0, 0, -5], [2, 1, 5, -25, 6], [52, 0, 65, -35, 0]])\n",
    "arr"
   ]
  },
  {
   "cell_type": "code",
   "execution_count": 103,
   "id": "ca4c859d",
   "metadata": {},
   "outputs": [
    {
     "data": {
      "text/plain": [
       "(array([0, 3], dtype=int64),)"
      ]
     },
     "execution_count": 103,
     "metadata": {},
     "output_type": "execute_result"
    }
   ],
   "source": [
    "X = 6\n",
    "\n",
    "output = np.where(np.any(arr > X, axis = 1))\n",
    "output"
   ]
  },
  {
   "cell_type": "markdown",
   "id": "d6d1a5b4",
   "metadata": {},
   "source": [
    "#### - Get filled the diagonals of NumPy array"
   ]
  },
  {
   "cell_type": "code",
   "execution_count": 104,
   "id": "8cf46774",
   "metadata": {},
   "outputs": [
    {
     "data": {
      "text/plain": [
       "array([[1, 2],\n",
       "       [3, 4]])"
      ]
     },
     "execution_count": 104,
     "metadata": {},
     "output_type": "execute_result"
    }
   ],
   "source": [
    "arr = np.array([[1, 2], [3, 4]])\n",
    "arr"
   ]
  },
  {
   "cell_type": "code",
   "execution_count": 105,
   "id": "fd408d0d",
   "metadata": {},
   "outputs": [
    {
     "data": {
      "text/plain": [
       "array([[5, 2],\n",
       "       [3, 5]])"
      ]
     },
     "execution_count": 105,
     "metadata": {},
     "output_type": "execute_result"
    }
   ],
   "source": [
    "np.fill_diagonal(arr, 5)\n",
    "\n",
    "arr"
   ]
  },
  {
   "cell_type": "markdown",
   "id": "fba2cdb7",
   "metadata": {},
   "source": [
    "#### - Check elements present in the NumPy array"
   ]
  },
  {
   "cell_type": "code",
   "execution_count": 106,
   "id": "ba87264e",
   "metadata": {},
   "outputs": [
    {
     "data": {
      "text/plain": [
       "array([[1, 2, 3],\n",
       "       [4, 5, 6]])"
      ]
     },
     "execution_count": 106,
     "metadata": {},
     "output_type": "execute_result"
    }
   ],
   "source": [
    "arr = np.array([[1, 2, 3], [4, 5, 6]])\n",
    "arr"
   ]
  },
  {
   "cell_type": "code",
   "execution_count": 107,
   "id": "ce0895f7",
   "metadata": {},
   "outputs": [
    {
     "name": "stdout",
     "output_type": "stream",
     "text": [
      "True\n",
      "False\n",
      "True\n",
      "False\n",
      "True\n"
     ]
    }
   ],
   "source": [
    "print(1 in arr)\n",
    "print(0 in arr)\n",
    "print(5 in arr)\n",
    "print(10 in arr)\n",
    "print(3 in arr)"
   ]
  },
  {
   "cell_type": "markdown",
   "id": "dfc2c4b7",
   "metadata": {},
   "source": [
    "#### - Combined array index by index "
   ]
  },
  {
   "cell_type": "code",
   "execution_count": 108,
   "id": "00b96c91",
   "metadata": {},
   "outputs": [
    {
     "name": "stdout",
     "output_type": "stream",
     "text": [
      "[[1 2]\n",
      " [3 4]]\n",
      "\n",
      "[[5 6]]\n"
     ]
    }
   ],
   "source": [
    "arr_a = np.array([[1, 2], [3, 4]])\n",
    "arr_b = np.array([[5, 6]])\n",
    "\n",
    "print(arr_a)\n",
    "print()\n",
    "print(arr_b)"
   ]
  },
  {
   "cell_type": "code",
   "execution_count": 109,
   "id": "84357f20",
   "metadata": {},
   "outputs": [
    {
     "data": {
      "text/plain": [
       "array([[1, 2, 5],\n",
       "       [3, 4, 6]])"
      ]
     },
     "execution_count": 109,
     "metadata": {},
     "output_type": "execute_result"
    }
   ],
   "source": [
    "np.concatenate((arr_a, arr_b.T), axis=1)"
   ]
  },
  {
   "cell_type": "markdown",
   "id": "d668d4a7",
   "metadata": {},
   "source": [
    "\n",
    "## Questions on NumPy Linear Algebra "
   ]
  },
  {
   "cell_type": "markdown",
   "id": "6f2da4c0",
   "metadata": {},
   "source": [
    "#### - Find a matrix or vector norm using NumPy "
   ]
  },
  {
   "cell_type": "code",
   "execution_count": 111,
   "id": "a938fd42",
   "metadata": {},
   "outputs": [
    {
     "data": {
      "text/plain": [
       "16.881943016134134"
      ]
     },
     "execution_count": 111,
     "metadata": {},
     "output_type": "execute_result"
    }
   ],
   "source": [
    "vector = np.arange(10)\n",
    "\n",
    "vec_norm = np.linalg.norm(vector)\n",
    "vec_norm"
   ]
  },
  {
   "cell_type": "markdown",
   "id": "9c6ac202",
   "metadata": {},
   "source": [
    "#### - Calculate the QR decomposition of a given matrix using NumPy "
   ]
  },
  {
   "cell_type": "code",
   "execution_count": 113,
   "id": "570c60a2",
   "metadata": {},
   "outputs": [
    {
     "data": {
      "text/plain": [
       "array([[1, 2, 3],\n",
       "       [3, 4, 5]])"
      ]
     },
     "execution_count": 113,
     "metadata": {},
     "output_type": "execute_result"
    }
   ],
   "source": [
    "m = np.array([[1, 2, 3], [3, 4, 5]])\n",
    "m"
   ]
  },
  {
   "cell_type": "code",
   "execution_count": 115,
   "id": "5a75212a",
   "metadata": {},
   "outputs": [
    {
     "name": "stdout",
     "output_type": "stream",
     "text": [
      "Q:\n",
      " [[-0.31622777 -0.9486833 ]\n",
      " [-0.9486833   0.31622777]]\n",
      "\n",
      "R:\n",
      " [[-3.16227766 -4.42718872 -5.69209979]\n",
      " [ 0.         -0.63245553 -1.26491106]]\n"
     ]
    }
   ],
   "source": [
    "q, r = np.linalg.qr(m)\n",
    "\n",
    "print('Q:\\n', q)\n",
    "print('\\nR:\\n', r)"
   ]
  },
  {
   "cell_type": "markdown",
   "id": "0359329c",
   "metadata": {},
   "source": [
    "#### - Compute the condition number of a given matrix using NumPy"
   ]
  },
  {
   "cell_type": "code",
   "execution_count": 118,
   "id": "1fd8924d",
   "metadata": {},
   "outputs": [
    {
     "data": {
      "text/plain": [
       "array([[1, 2],\n",
       "       [3, 4]])"
      ]
     },
     "execution_count": 118,
     "metadata": {},
     "output_type": "execute_result"
    }
   ],
   "source": [
    "m = np.array([[1, 2], [3, 4]])\n",
    "m"
   ]
  },
  {
   "cell_type": "code",
   "execution_count": 119,
   "id": "afc143e2",
   "metadata": {},
   "outputs": [
    {
     "data": {
      "text/plain": [
       "14.933034373659265"
      ]
     },
     "execution_count": 119,
     "metadata": {},
     "output_type": "execute_result"
    }
   ],
   "source": [
    "res = np.linalg.cond(m)\n",
    "res"
   ]
  },
  {
   "cell_type": "markdown",
   "id": "34360a71",
   "metadata": {},
   "source": [
    "#### - Compute the eigenvalues and right eigenvectors of a given square array using NumPy?"
   ]
  },
  {
   "cell_type": "code",
   "execution_count": 120,
   "id": "7f87c331",
   "metadata": {},
   "outputs": [
    {
     "data": {
      "text/plain": [
       "array([[1, 2],\n",
       "       [2, 3]])"
      ]
     },
     "execution_count": 120,
     "metadata": {},
     "output_type": "execute_result"
    }
   ],
   "source": [
    "m = np.array([[1, 2], [2, 3]])\n",
    "m"
   ]
  },
  {
   "cell_type": "code",
   "execution_count": 124,
   "id": "c342351e",
   "metadata": {},
   "outputs": [
    {
     "name": "stdout",
     "output_type": "stream",
     "text": [
      "Eigen values:\n",
      " [-0.23606798  4.23606798]\n",
      "Right eigenvectors:\n",
      " [[-0.85065081 -0.52573111]\n",
      " [ 0.52573111 -0.85065081]]\n"
     ]
    }
   ],
   "source": [
    "w, v = np.linalg.eig(m)\n",
    "\n",
    "print(\"Eigen values:\\n\", w)\n",
    "print(\"Right eigenvectors:\\n\", v)"
   ]
  },
  {
   "cell_type": "markdown",
   "id": "4b74a388",
   "metadata": {},
   "source": [
    "#### - Calculate the Euclidean distance using NumPy "
   ]
  },
  {
   "cell_type": "code",
   "execution_count": 126,
   "id": "107e22f1",
   "metadata": {},
   "outputs": [
    {
     "data": {
      "text/plain": [
       "2.23606797749979"
      ]
     },
     "execution_count": 126,
     "metadata": {},
     "output_type": "execute_result"
    }
   ],
   "source": [
    "arr_1 = np.array((1, 2, 3))\n",
    "arr_2 = np.array((1, 1, 1))\n",
    "\n",
    "dist = np.linalg.norm(arr_1 - arr_2)\n",
    "dist"
   ]
  },
  {
   "cell_type": "markdown",
   "id": "4344d019",
   "metadata": {},
   "source": [
    "## Questions on NumPy Random "
   ]
  },
  {
   "cell_type": "markdown",
   "id": "44cd18a0",
   "metadata": {},
   "source": [
    "#### - Create a Numpy array with random values "
   ]
  },
  {
   "cell_type": "code",
   "execution_count": 132,
   "id": "cdeaa1b7",
   "metadata": {},
   "outputs": [
    {
     "data": {
      "text/plain": [
       "array([5, 3, 4, 0, 7, 1, 3, 5, 7, 0])"
      ]
     },
     "execution_count": 132,
     "metadata": {},
     "output_type": "execute_result"
    }
   ],
   "source": [
    "from numpy.random import seed\n",
    "from numpy.random import randint\n",
    "\n",
    "# seed random number generator\n",
    "seed(1)\n",
    "\n",
    "values = randint(0, 8, 10)\n",
    "values"
   ]
  },
  {
   "cell_type": "markdown",
   "id": "5eb779c4",
   "metadata": {},
   "source": [
    "#### - How to choose elements from the list with different probability using NumPy? "
   ]
  },
  {
   "cell_type": "code",
   "execution_count": 137,
   "id": "cbb63cfe",
   "metadata": {},
   "outputs": [
    {
     "data": {
      "text/plain": [
       "2"
      ]
     },
     "execution_count": 137,
     "metadata": {},
     "output_type": "execute_result"
    }
   ],
   "source": [
    "import numpy as np\n",
    "\n",
    "list_t = [1, 2, 3, 4, 5]\n",
    "\n",
    "number = np.random.choice(list_t)\n",
    "number"
   ]
  },
  {
   "cell_type": "markdown",
   "id": "e99fe4cf",
   "metadata": {},
   "source": [
    "#### - How to get weighted random choice in Python?"
   ]
  },
  {
   "cell_type": "code",
   "execution_count": 145,
   "id": "bac96ca5",
   "metadata": {},
   "outputs": [
    {
     "data": {
      "text/plain": [
       "[30, 50, 20, 10, 30]"
      ]
     },
     "execution_count": 145,
     "metadata": {},
     "output_type": "execute_result"
    }
   ],
   "source": [
    "import random\n",
    "\n",
    "list_t = [10, 20, 30, 40, 50]\n",
    "\n",
    "randomList = random.choices(list_t, weights=(1, 2, 3, 4, 5), k=5)\n",
    "randomList"
   ]
  },
  {
   "cell_type": "markdown",
   "id": "04ca2fe7",
   "metadata": {},
   "source": [
    "#### - Generate Random Numbers From The Uniform Distribution using NumPy"
   ]
  },
  {
   "cell_type": "code",
   "execution_count": 146,
   "id": "a6a0ece0",
   "metadata": {},
   "outputs": [
    {
     "data": {
      "text/plain": [
       "array([0.53881673, 0.41919451, 0.6852195 , 0.20445225])"
      ]
     },
     "execution_count": 146,
     "metadata": {},
     "output_type": "execute_result"
    }
   ],
   "source": [
    "import numpy as np\n",
    "\n",
    "res = np.random.uniform(size=4)\n",
    "res"
   ]
  },
  {
   "cell_type": "markdown",
   "id": "e78e6ac0",
   "metadata": {},
   "source": [
    "#### - Get Random Elements form geometric distribution"
   ]
  },
  {
   "cell_type": "code",
   "execution_count": null,
   "id": "2b397195",
   "metadata": {},
   "outputs": [],
   "source": []
  },
  {
   "cell_type": "markdown",
   "id": "14653db3",
   "metadata": {},
   "source": [
    "#### - Get Random elements from Laplace distribution"
   ]
  },
  {
   "cell_type": "code",
   "execution_count": null,
   "id": "f1de5d1d",
   "metadata": {},
   "outputs": [],
   "source": []
  },
  {
   "cell_type": "markdown",
   "id": "879a4365",
   "metadata": {},
   "source": [
    "#### - Return a Matrix of random values from a uniform distribution"
   ]
  },
  {
   "cell_type": "code",
   "execution_count": 152,
   "id": "99c6af63",
   "metadata": {},
   "outputs": [
    {
     "data": {
      "text/plain": [
       "matrix([[0.53158347, 0.67921295, 0.51287514, 0.29911234],\n",
       "        [0.10538467, 0.28493215, 0.76885285, 0.6407827 ],\n",
       "        [0.8013307 , 0.51712053, 0.23210002, 0.62796193]])"
      ]
     },
     "execution_count": 152,
     "metadata": {},
     "output_type": "execute_result"
    }
   ],
   "source": [
    "import numpy as geek\n",
    "import numpy.matlib\n",
    "\n",
    "res = geek.matlib.rand((3, 4))\n",
    "res"
   ]
  },
  {
   "cell_type": "markdown",
   "id": "2a8a150a",
   "metadata": {},
   "source": [
    "#### - Return a Matrix of random values from a Gaussian distribution"
   ]
  },
  {
   "cell_type": "code",
   "execution_count": null,
   "id": "2fde7718",
   "metadata": {},
   "outputs": [],
   "source": []
  },
  {
   "cell_type": "markdown",
   "id": "9fce4ad9",
   "metadata": {},
   "source": [
    "##  Questions on NumPy Sorting and Searching"
   ]
  },
  {
   "cell_type": "markdown",
   "id": "3abb8378",
   "metadata": {},
   "source": [
    "#### - How to get element-wise true division of an array using Numpy?"
   ]
  },
  {
   "cell_type": "code",
   "execution_count": 153,
   "id": "a359ea9d",
   "metadata": {},
   "outputs": [
    {
     "data": {
      "text/plain": [
       "array([0, 1, 2, 3, 4])"
      ]
     },
     "execution_count": 153,
     "metadata": {},
     "output_type": "execute_result"
    }
   ],
   "source": [
    "arr = np.arange(5)\n",
    "arr"
   ]
  },
  {
   "cell_type": "code",
   "execution_count": 154,
   "id": "59bf1de6",
   "metadata": {},
   "outputs": [
    {
     "data": {
      "text/plain": [
       "array([[0.25, 0.5 , 0.75],\n",
       "       [1.  , 1.25, 1.5 ]])"
      ]
     },
     "execution_count": 154,
     "metadata": {},
     "output_type": "execute_result"
    }
   ],
   "source": [
    "res = np.true_divide(arr, 4)\n",
    "res"
   ]
  },
  {
   "cell_type": "markdown",
   "id": "ba0a8ff6",
   "metadata": {},
   "source": [
    "#### - How to calculate the element-wise absolute value of NumPy array?"
   ]
  },
  {
   "cell_type": "code",
   "execution_count": 155,
   "id": "5f60a693",
   "metadata": {},
   "outputs": [
    {
     "data": {
      "text/plain": [
       "array([ 1, -2,  3])"
      ]
     },
     "execution_count": 155,
     "metadata": {},
     "output_type": "execute_result"
    }
   ],
   "source": [
    "arr = np.array([1, -2, 3])\n",
    "arr"
   ]
  },
  {
   "cell_type": "code",
   "execution_count": 156,
   "id": "0ad85f55",
   "metadata": {},
   "outputs": [
    {
     "data": {
      "text/plain": [
       "array([1, 2, 3])"
      ]
     },
     "execution_count": 156,
     "metadata": {},
     "output_type": "execute_result"
    }
   ],
   "source": [
    "res = np.absolute(arr)\n",
    "res"
   ]
  },
  {
   "cell_type": "markdown",
   "id": "6cf401a6",
   "metadata": {},
   "source": [
    "#### - Compute the negative of the NumPy array "
   ]
  },
  {
   "cell_type": "code",
   "execution_count": 160,
   "id": "5483474f",
   "metadata": {},
   "outputs": [
    {
     "data": {
      "text/plain": [
       "array([[ 3, -7,  5],\n",
       "       [-6,  2,  1]])"
      ]
     },
     "execution_count": 160,
     "metadata": {},
     "output_type": "execute_result"
    }
   ],
   "source": [
    "arr = np.array([[3, -7, 5], [-6, 2, 1]])\n",
    "arr"
   ]
  },
  {
   "cell_type": "code",
   "execution_count": 161,
   "id": "658052e1",
   "metadata": {},
   "outputs": [
    {
     "data": {
      "text/plain": [
       "array([[-3,  7, -5],\n",
       "       [ 6, -2, -1]])"
      ]
     },
     "execution_count": 161,
     "metadata": {},
     "output_type": "execute_result"
    }
   ],
   "source": [
    "out_arr = np.negative(arr)\n",
    "out_arr"
   ]
  },
  {
   "cell_type": "markdown",
   "id": "42df5049",
   "metadata": {},
   "source": [
    "#### - Multiply 2d numpy array corresponding to 1d array\n"
   ]
  },
  {
   "cell_type": "code",
   "execution_count": 165,
   "id": "a125526e",
   "metadata": {},
   "outputs": [
    {
     "name": "stdout",
     "output_type": "stream",
     "text": [
      "[[1 2 3]\n",
      " [4 5 6]\n",
      " [7 8 9]]\n",
      "\n",
      "[0 2 3]\n"
     ]
    }
   ],
   "source": [
    "arr_1 = np.array([[1, 2, 3], [4, 5, 6], [7, 8, 9]])\n",
    "arr_2 = np.array([0, 2, 3])\n",
    "\n",
    "print(arr_1)\n",
    "print()\n",
    "print(arr_2)"
   ]
  },
  {
   "cell_type": "code",
   "execution_count": 167,
   "id": "bf867b44",
   "metadata": {},
   "outputs": [
    {
     "data": {
      "text/plain": [
       "array([[ 0,  0,  0],\n",
       "       [ 8, 10, 12],\n",
       "       [21, 24, 27]])"
      ]
     },
     "execution_count": 167,
     "metadata": {},
     "output_type": "execute_result"
    }
   ],
   "source": [
    "result = arr_1 * arr_2[:, np.newaxis]\n",
    "result"
   ]
  },
  {
   "cell_type": "markdown",
   "id": "12c5aea2",
   "metadata": {},
   "source": [
    "#### - Computes the inner product of two arrays"
   ]
  },
  {
   "cell_type": "code",
   "execution_count": 169,
   "id": "faaa7bbc",
   "metadata": {},
   "outputs": [
    {
     "data": {
      "text/plain": [
       "2"
      ]
     },
     "execution_count": 169,
     "metadata": {},
     "output_type": "execute_result"
    }
   ],
   "source": [
    "arr_1 = np.array([1,2,3])\n",
    "arr_2 = np.array([0,1,0])\n",
    "np.inner(arr_1, arr_2)"
   ]
  },
  {
   "cell_type": "markdown",
   "id": "e3e473dd",
   "metadata": {},
   "source": [
    "#### - Compute the nth percentile of the NumPy array"
   ]
  },
  {
   "cell_type": "code",
   "execution_count": 171,
   "id": "7003d9ca",
   "metadata": {},
   "outputs": [
    {
     "data": {
      "text/plain": [
       "array([1, 2, 3, 4, 5, 6, 7])"
      ]
     },
     "execution_count": 171,
     "metadata": {},
     "output_type": "execute_result"
    }
   ],
   "source": [
    "arr = np.array([1,2,3,4,5,6,7])\n",
    "arr"
   ]
  },
  {
   "cell_type": "code",
   "execution_count": 172,
   "id": "3d4226d1",
   "metadata": {},
   "outputs": [
    {
     "name": "stdout",
     "output_type": "stream",
     "text": [
      "50th:  4.0\n",
      "25th:  2.5\n",
      "75th:  5.5\n"
     ]
    }
   ],
   "source": [
    "print(\"50th: \", np.percentile(arr, 50))\n",
    "print(\"25th: \", np.percentile(arr, 25))\n",
    "print(\"75th: \",np.percentile(arr, 75))"
   ]
  },
  {
   "cell_type": "markdown",
   "id": "204b7f02",
   "metadata": {},
   "source": [
    "#### - Calculate the n-th order discrete difference along the given axis"
   ]
  },
  {
   "cell_type": "code",
   "execution_count": null,
   "id": "df9a4c63",
   "metadata": {},
   "outputs": [],
   "source": []
  },
  {
   "cell_type": "markdown",
   "id": "099ee9f3",
   "metadata": {},
   "source": [
    "#### - Calculate the sum of all columns in a 2D NumPy array "
   ]
  },
  {
   "cell_type": "code",
   "execution_count": 177,
   "id": "b3d0b3d4",
   "metadata": {},
   "outputs": [
    {
     "data": {
      "text/plain": [
       "array([[1, 2, 3],\n",
       "       [4, 5, 6]])"
      ]
     },
     "execution_count": 177,
     "metadata": {},
     "output_type": "execute_result"
    }
   ],
   "source": [
    "arr = np.array([[1, 2, 3], [4, 5, 6]])\n",
    "arr"
   ]
  },
  {
   "cell_type": "code",
   "execution_count": 178,
   "id": "7bfa1b55",
   "metadata": {},
   "outputs": [
    {
     "data": {
      "text/plain": [
       "array([5, 7, 9])"
      ]
     },
     "execution_count": 178,
     "metadata": {},
     "output_type": "execute_result"
    }
   ],
   "source": [
    "arr.sum(axis=0)"
   ]
  },
  {
   "cell_type": "markdown",
   "id": "4a8936da",
   "metadata": {},
   "source": [
    "#### - Calculate average values of two given NumPy arrays"
   ]
  },
  {
   "cell_type": "code",
   "execution_count": 179,
   "id": "8a7fb61e",
   "metadata": {},
   "outputs": [
    {
     "data": {
      "text/plain": [
       "array([2., 2.])"
      ]
     },
     "execution_count": 179,
     "metadata": {},
     "output_type": "execute_result"
    }
   ],
   "source": [
    "arr1 = np.array([3, 4])\n",
    "arr2 = np.array([1, 0])\n",
    "\n",
    "avg = (arr1 + arr2) / 2\n",
    "avg"
   ]
  },
  {
   "cell_type": "markdown",
   "id": "f8548a0b",
   "metadata": {},
   "source": [
    "#### - How to compute numerical negative value for all elements in a given NumPy array?"
   ]
  },
  {
   "cell_type": "code",
   "execution_count": 180,
   "id": "51733cfc",
   "metadata": {},
   "outputs": [
    {
     "data": {
      "text/plain": [
       "array([-1, -2, -3,  1,  2,  3,  0])"
      ]
     },
     "execution_count": 180,
     "metadata": {},
     "output_type": "execute_result"
    }
   ],
   "source": [
    "arr = np.array([-1, -2, -3, 1, 2, 3, 0])\n",
    "arr"
   ]
  },
  {
   "cell_type": "code",
   "execution_count": 181,
   "id": "027226f5",
   "metadata": {},
   "outputs": [
    {
     "data": {
      "text/plain": [
       "array([ 1,  2,  3, -1, -2, -3,  0])"
      ]
     },
     "execution_count": 181,
     "metadata": {},
     "output_type": "execute_result"
    }
   ],
   "source": [
    "np.negative(arr)"
   ]
  },
  {
   "cell_type": "markdown",
   "id": "88d5b2bb",
   "metadata": {},
   "source": [
    "#### - How to get the floor, ceiling and truncated values of the elements of a numpy array?"
   ]
  },
  {
   "cell_type": "code",
   "execution_count": 185,
   "id": "6ee1caea",
   "metadata": {},
   "outputs": [
    {
     "data": {
      "text/plain": [
       "array([-1,  2,  3,  4,  5])"
      ]
     },
     "execution_count": 185,
     "metadata": {},
     "output_type": "execute_result"
    }
   ],
   "source": [
    "arr = np.array([-1, 2, 3, 4, 5])\n",
    "arr"
   ]
  },
  {
   "cell_type": "code",
   "execution_count": 186,
   "id": "fc0b8f1c",
   "metadata": {},
   "outputs": [
    {
     "data": {
      "text/plain": [
       "array([-1.,  2.,  3.,  4.,  5.])"
      ]
     },
     "execution_count": 186,
     "metadata": {},
     "output_type": "execute_result"
    }
   ],
   "source": [
    "np.floor(arr)"
   ]
  },
  {
   "cell_type": "code",
   "execution_count": 187,
   "id": "60d2f84f",
   "metadata": {},
   "outputs": [
    {
     "data": {
      "text/plain": [
       "array([-1.,  2.,  3.,  4.,  5.])"
      ]
     },
     "execution_count": 187,
     "metadata": {},
     "output_type": "execute_result"
    }
   ],
   "source": [
    "np.ceil(arr)"
   ]
  },
  {
   "cell_type": "code",
   "execution_count": 188,
   "id": "b3317316",
   "metadata": {},
   "outputs": [
    {
     "data": {
      "text/plain": [
       "array([-1.,  2.,  3.,  4.,  5.])"
      ]
     },
     "execution_count": 188,
     "metadata": {},
     "output_type": "execute_result"
    }
   ],
   "source": [
    "np.trunc(arr)"
   ]
  },
  {
   "cell_type": "markdown",
   "id": "7a145b3c",
   "metadata": {},
   "source": [
    "#### - How to round elements of the NumPy array to the nearest integer? "
   ]
  },
  {
   "cell_type": "code",
   "execution_count": 192,
   "id": "fb5fa275",
   "metadata": {},
   "outputs": [
    {
     "data": {
      "text/plain": [
       "array([0.2, 0.3, 0.4, 0.5, 0.6, 0.7])"
      ]
     },
     "execution_count": 192,
     "metadata": {},
     "output_type": "execute_result"
    }
   ],
   "source": [
    "arr = np.array([0.2, 0.3, 0.4, 0.5, 0.6, 0.7])\n",
    "arr"
   ]
  },
  {
   "cell_type": "code",
   "execution_count": 193,
   "id": "3dfb2db1",
   "metadata": {},
   "outputs": [
    {
     "data": {
      "text/plain": [
       "array([0., 0., 0., 0., 1., 1.])"
      ]
     },
     "execution_count": 193,
     "metadata": {},
     "output_type": "execute_result"
    }
   ],
   "source": [
    "np.rint(arr)"
   ]
  },
  {
   "cell_type": "markdown",
   "id": "af419bff",
   "metadata": {},
   "source": [
    "#### - Find the round off the values of the given matrix "
   ]
  },
  {
   "cell_type": "code",
   "execution_count": 197,
   "id": "25348fed",
   "metadata": {},
   "outputs": [
    {
     "data": {
      "text/plain": [
       "array([[1.3, 2.5, 3.8],\n",
       "       [4. , 5.1, 6.2],\n",
       "       [7.4, 8.6, 9. ]])"
      ]
     },
     "execution_count": 197,
     "metadata": {},
     "output_type": "execute_result"
    }
   ],
   "source": [
    "arr = np.array([[1.3, 2.5, 3.8], [4, 5.1, 6.2], [7.4, 8.6, 9]])\n",
    "arr"
   ]
  },
  {
   "cell_type": "code",
   "execution_count": 198,
   "id": "f0b7d6ca",
   "metadata": {},
   "outputs": [
    {
     "data": {
      "text/plain": [
       "array([[1., 2., 4.],\n",
       "       [4., 5., 6.],\n",
       "       [7., 9., 9.]])"
      ]
     },
     "execution_count": 198,
     "metadata": {},
     "output_type": "execute_result"
    }
   ],
   "source": [
    "arr.round()"
   ]
  },
  {
   "cell_type": "markdown",
   "id": "8b5d4c24",
   "metadata": {},
   "source": [
    "#### - Determine the positive square-root of an array "
   ]
  },
  {
   "cell_type": "code",
   "execution_count": 200,
   "id": "5e4e6136",
   "metadata": {},
   "outputs": [
    {
     "data": {
      "text/plain": [
       "array([1., 2., 3., 4.])"
      ]
     },
     "execution_count": 200,
     "metadata": {},
     "output_type": "execute_result"
    }
   ],
   "source": [
    "arr = np.sqrt([1, 4, 9, 16])\n",
    "arr"
   ]
  },
  {
   "cell_type": "markdown",
   "id": "ec8da9f4",
   "metadata": {},
   "source": [
    "#### - Evaluate Einstein’s summation convention of two multidimensional NumPy arrays "
   ]
  },
  {
   "cell_type": "code",
   "execution_count": 202,
   "id": "8be7aa2a",
   "metadata": {},
   "outputs": [
    {
     "name": "stdout",
     "output_type": "stream",
     "text": [
      "[[1 2]\n",
      " [0 2]]\n",
      "\n",
      "[[0 1]\n",
      " [3 4]]\n"
     ]
    }
   ],
   "source": [
    "m1 = np.array([[1, 2], [0, 2]])\n",
    "m2 = np.array([[0, 1], [3, 4]])\n",
    "\n",
    "print(m1)\n",
    "print()\n",
    "print(m2)"
   ]
  },
  {
   "cell_type": "code",
   "execution_count": 203,
   "id": "44f44973",
   "metadata": {},
   "outputs": [
    {
     "data": {
      "text/plain": [
       "array([[6, 9],\n",
       "       [6, 8]])"
      ]
     },
     "execution_count": 203,
     "metadata": {},
     "output_type": "execute_result"
    }
   ],
   "source": [
    "res = np.einsum(\"mk,kn\", m1, m2)\n",
    "res"
   ]
  },
  {
   "cell_type": "markdown",
   "id": "8b8f473d",
   "metadata": {},
   "source": [
    "## Questions on NumPy Statistics "
   ]
  },
  {
   "cell_type": "markdown",
   "id": "1efadcb8",
   "metadata": {},
   "source": [
    "#### - Compute the median of the flattened NumPy array "
   ]
  },
  {
   "cell_type": "code",
   "execution_count": 204,
   "id": "541b3ca5",
   "metadata": {},
   "outputs": [
    {
     "data": {
      "text/plain": [
       "array([1, 2, 3, 4, 5, 6, 7])"
      ]
     },
     "execution_count": 204,
     "metadata": {},
     "output_type": "execute_result"
    }
   ],
   "source": [
    "arr = np.array([1, 2, 3, 4, 5, 6, 7])\n",
    "arr"
   ]
  },
  {
   "cell_type": "code",
   "execution_count": 205,
   "id": "e30e9e27",
   "metadata": {},
   "outputs": [
    {
     "data": {
      "text/plain": [
       "4.0"
      ]
     },
     "execution_count": 205,
     "metadata": {},
     "output_type": "execute_result"
    }
   ],
   "source": [
    "np.median(arr)"
   ]
  },
  {
   "cell_type": "markdown",
   "id": "caf5b9ec",
   "metadata": {},
   "source": [
    "#### - Find Mean of a List of Numpy Array "
   ]
  },
  {
   "cell_type": "code",
   "execution_count": 207,
   "id": "f64f83b4",
   "metadata": {},
   "outputs": [
    {
     "data": {
      "text/plain": [
       "[array([1, 2, 3]), array([4, 5, 6]), array([7, 8, 9])]"
      ]
     },
     "execution_count": 207,
     "metadata": {},
     "output_type": "execute_result"
    }
   ],
   "source": [
    "arr_list = [np.array([1, 2, 3]), np.array([4, 5, 6]), np.array([7, 8, 9])]\n",
    "arr_list"
   ]
  },
  {
   "cell_type": "code",
   "execution_count": 208,
   "id": "da280bab",
   "metadata": {},
   "outputs": [
    {
     "data": {
      "text/plain": [
       "[2.0, 5.0, 8.0]"
      ]
     },
     "execution_count": 208,
     "metadata": {},
     "output_type": "execute_result"
    }
   ],
   "source": [
    "res = []\n",
    "for i in range(len(arr_list)):\n",
    "    res.append(np.mean(arr_list[i]))\n",
    "\n",
    "res"
   ]
  },
  {
   "cell_type": "markdown",
   "id": "c9645dc5",
   "metadata": {},
   "source": [
    "#### - Calculate the mean of array ignoring the NaN value "
   ]
  },
  {
   "cell_type": "code",
   "execution_count": 212,
   "id": "b7fce331",
   "metadata": {},
   "outputs": [
    {
     "data": {
      "text/plain": [
       "array([[ 2.,  5., 37.],\n",
       "       [ 7., 13., nan]])"
      ]
     },
     "execution_count": 212,
     "metadata": {},
     "output_type": "execute_result"
    }
   ],
   "source": [
    "arr = np.array([[2, 5, 37], [7, 13, np.nan]])\n",
    "arr"
   ]
  },
  {
   "cell_type": "code",
   "execution_count": 213,
   "id": "e17d6170",
   "metadata": {},
   "outputs": [
    {
     "data": {
      "text/plain": [
       "12.8"
      ]
     },
     "execution_count": 213,
     "metadata": {},
     "output_type": "execute_result"
    }
   ],
   "source": [
    "np.nanmean(arr)"
   ]
  },
  {
   "cell_type": "markdown",
   "id": "36dfc58f",
   "metadata": {},
   "source": [
    "#### - Get the mean value from given matrix "
   ]
  },
  {
   "cell_type": "code",
   "execution_count": 214,
   "id": "2754f1bc",
   "metadata": {},
   "outputs": [
    {
     "data": {
      "text/plain": [
       "matrix([[ 0,  1,  2,  3],\n",
       "        [ 4,  5,  6,  7],\n",
       "        [ 8,  9, 10, 11]])"
      ]
     },
     "execution_count": 214,
     "metadata": {},
     "output_type": "execute_result"
    }
   ],
   "source": [
    "m = np.matrix(np.arange(12).reshape((3, 4)))\n",
    "m"
   ]
  },
  {
   "cell_type": "code",
   "execution_count": 215,
   "id": "9b309958",
   "metadata": {},
   "outputs": [
    {
     "data": {
      "text/plain": [
       "5.5"
      ]
     },
     "execution_count": 215,
     "metadata": {},
     "output_type": "execute_result"
    }
   ],
   "source": [
    "m.mean()"
   ]
  },
  {
   "cell_type": "markdown",
   "id": "276ff061",
   "metadata": {},
   "source": [
    "#### - Compute the variance of the NumPy array "
   ]
  },
  {
   "cell_type": "code",
   "execution_count": 217,
   "id": "1a124ff0",
   "metadata": {},
   "outputs": [
    {
     "data": {
      "text/plain": [
       "512.5600000000001"
      ]
     },
     "execution_count": 217,
     "metadata": {},
     "output_type": "execute_result"
    }
   ],
   "source": [
    "arr = [52, 5, 7, 51, 4]\n",
    "\n",
    "np.var(arr)"
   ]
  },
  {
   "cell_type": "markdown",
   "id": "4235caa5",
   "metadata": {},
   "source": [
    "#### - Compute the standard deviation of the NumPy array "
   ]
  },
  {
   "cell_type": "code",
   "execution_count": 219,
   "id": "6b6a3f84",
   "metadata": {},
   "outputs": [
    {
     "data": {
      "text/plain": [
       "22.639787984873003"
      ]
     },
     "execution_count": 219,
     "metadata": {},
     "output_type": "execute_result"
    }
   ],
   "source": [
    "arr = [52, 5, 7, 51, 4]\n",
    "\n",
    "np.std(arr)"
   ]
  },
  {
   "cell_type": "markdown",
   "id": "eb0f2003",
   "metadata": {},
   "source": [
    "#### - Compute pearson product-moment correlation coefficients of two given NumPy arrays "
   ]
  },
  {
   "cell_type": "code",
   "execution_count": 220,
   "id": "fd7d4e8d",
   "metadata": {},
   "outputs": [
    {
     "data": {
      "text/plain": [
       "array([[1., 1.],\n",
       "       [1., 1.]])"
      ]
     },
     "execution_count": 220,
     "metadata": {},
     "output_type": "execute_result"
    }
   ],
   "source": [
    "arr_1 = np.array([0, 1, 2])\n",
    "arr_2 = np.array([3, 4, 5])\n",
    "\n",
    "res = np.corrcoef(arr_1, arr_2)\n",
    "res"
   ]
  },
  {
   "cell_type": "markdown",
   "id": "aac1f96f",
   "metadata": {},
   "source": [
    "#### - Calculate the mean across dimension in a 2D NumPy array "
   ]
  },
  {
   "cell_type": "code",
   "execution_count": null,
   "id": "46767353",
   "metadata": {},
   "outputs": [],
   "source": []
  },
  {
   "cell_type": "markdown",
   "id": "be1ca39e",
   "metadata": {},
   "source": [
    "#### - Calculate the average, variance and standard deviation in Python using NumPy "
   ]
  },
  {
   "cell_type": "code",
   "execution_count": 225,
   "id": "f0fb5b44",
   "metadata": {},
   "outputs": [
    {
     "name": "stdout",
     "output_type": "stream",
     "text": [
      "7.0\n",
      "31.0\n",
      "5.5677643628300215\n"
     ]
    }
   ],
   "source": [
    "arr = np.array([21, 2, 4, 5, 5, 8, 7, 4])\n",
    "\n",
    "print(np.average(arr))\n",
    "print(np.var(arr))\n",
    "print(np.std(arr))"
   ]
  },
  {
   "cell_type": "markdown",
   "id": "e0b3d50b",
   "metadata": {},
   "source": [
    "#### - Describe a NumPy Array in Python "
   ]
  },
  {
   "cell_type": "code",
   "execution_count": 226,
   "id": "5053a138",
   "metadata": {},
   "outputs": [
    {
     "name": "stdout",
     "output_type": "stream",
     "text": [
      "Array = [21  2  4  5  5  8  7  4]\n",
      "Mean = 7.0\n",
      "Median = 5.0\n"
     ]
    }
   ],
   "source": [
    "arr = np.array([21, 2, 4, 5, 5, 8, 7, 4])\n",
    "\n",
    "print(\"Array =\", arr)\n",
    "print(\"Mean =\", np.mean(arr))\n",
    "print(\"Median =\", np.median(arr))"
   ]
  },
  {
   "cell_type": "markdown",
   "id": "fb6de1a1",
   "metadata": {},
   "source": [
    "## Questions on Polynomial"
   ]
  },
  {
   "cell_type": "markdown",
   "id": "01599e07",
   "metadata": {},
   "source": [
    "#### - Define a polynomial function "
   ]
  },
  {
   "cell_type": "code",
   "execution_count": null,
   "id": "4bb5b9c4",
   "metadata": {},
   "outputs": [],
   "source": []
  },
  {
   "cell_type": "markdown",
   "id": "cc47561b",
   "metadata": {},
   "source": [
    "#### - How to add one polynomial to another using NumPy in Python? "
   ]
  },
  {
   "cell_type": "code",
   "execution_count": 229,
   "id": "139b3841",
   "metadata": {},
   "outputs": [
    {
     "data": {
      "text/plain": [
       "array([5., 7., 4.])"
      ]
     },
     "execution_count": 229,
     "metadata": {},
     "output_type": "execute_result"
    }
   ],
   "source": [
    "from numpy.polynomial import polynomial as P\n",
    "\n",
    "c1 = (2,5,3)\n",
    "c2 = (3,2,1)\n",
    "\n",
    "P.polyadd(c1,c2)"
   ]
  },
  {
   "cell_type": "markdown",
   "id": "cb91a3ab",
   "metadata": {},
   "source": [
    "#### - How to subtract one polynomial to another using NumPy in Python? "
   ]
  },
  {
   "cell_type": "code",
   "execution_count": 230,
   "id": "6fc89fa2",
   "metadata": {},
   "outputs": [
    {
     "data": {
      "text/plain": [
       "array([-1.,  3.,  2.])"
      ]
     },
     "execution_count": 230,
     "metadata": {},
     "output_type": "execute_result"
    }
   ],
   "source": [
    "c1 = (2,5,3)\n",
    "c2 = (3,2,1)\n",
    "\n",
    "P.polysub(c1,c2)"
   ]
  },
  {
   "cell_type": "markdown",
   "id": "af45698c",
   "metadata": {},
   "source": [
    "#### - How to multiply a polynomial to another using NumPy in Python? "
   ]
  },
  {
   "cell_type": "code",
   "execution_count": 232,
   "id": "bbb3de87",
   "metadata": {},
   "outputs": [
    {
     "data": {
      "text/plain": [
       "array([ 6, 19, 21, 11,  3])"
      ]
     },
     "execution_count": 232,
     "metadata": {},
     "output_type": "execute_result"
    }
   ],
   "source": [
    "c1 = (2,5,3)\n",
    "c2 = (3,2,1)\n",
    "\n",
    "np.polymul(c1, c2)"
   ]
  },
  {
   "cell_type": "markdown",
   "id": "7851e503",
   "metadata": {},
   "source": [
    "#### - How to divide a polynomial to another using NumPy in Python? "
   ]
  },
  {
   "cell_type": "code",
   "execution_count": 233,
   "id": "14fec6fb",
   "metadata": {},
   "outputs": [
    {
     "data": {
      "text/plain": [
       "(array([1.5 , 1.75]), array([0.25]))"
      ]
     },
     "execution_count": 233,
     "metadata": {},
     "output_type": "execute_result"
    }
   ],
   "source": [
    "arr_1 = np.array([3.0, 5.0, 2.0])\n",
    "arr_2 = np.array([2.0, 1.0])\n",
    "\n",
    "np.polydiv(arr_1, arr_2)"
   ]
  },
  {
   "cell_type": "markdown",
   "id": "ff02eb28",
   "metadata": {},
   "source": [
    "#### - Find the roots of the polynomials using NumPy "
   ]
  },
  {
   "cell_type": "code",
   "execution_count": 237,
   "id": "3b81b2c4",
   "metadata": {},
   "outputs": [
    {
     "data": {
      "text/plain": [
       "array([-0.33333333+0.47140452j, -0.33333333-0.47140452j])"
      ]
     },
     "execution_count": 237,
     "metadata": {},
     "output_type": "execute_result"
    }
   ],
   "source": [
    "arr = np.array([3, 2, 1])\n",
    "\n",
    "np.roots(arr)"
   ]
  },
  {
   "cell_type": "markdown",
   "id": "7bdc075e",
   "metadata": {},
   "source": [
    "#### - Evaluate a 2-D polynomial series on the Cartesian product "
   ]
  },
  {
   "cell_type": "code",
   "execution_count": 239,
   "id": "ef4d2d10",
   "metadata": {},
   "outputs": [
    {
     "data": {
      "text/plain": [
       "array([[3341., 5109.],\n",
       "       [4197., 6417.]])"
      ]
     },
     "execution_count": 239,
     "metadata": {},
     "output_type": "execute_result"
    }
   ],
   "source": [
    "from numpy.polynomial.polynomial import polygrid2d\n",
    "\n",
    "arr = np.array([[1, 3, 5], [4, 5, 6]])\n",
    "\n",
    "polygrid2d([7, 9], [8, 10], arr)"
   ]
  },
  {
   "cell_type": "markdown",
   "id": "fde31a30",
   "metadata": {},
   "source": [
    "#### - Evaluate a 3-D polynomial series on the Cartesian product"
   ]
  },
  {
   "cell_type": "code",
   "execution_count": 240,
   "id": "40cd2903",
   "metadata": {},
   "outputs": [
    {
     "data": {
      "text/plain": [
       "array([[419018., 493640.],\n",
       "       [637682., 751244.]])"
      ]
     },
     "execution_count": 240,
     "metadata": {},
     "output_type": "execute_result"
    }
   ],
   "source": [
    "from numpy.polynomial.polynomial import polygrid3d\n",
    "\n",
    "arr = np.array([[2, 3, 4], [5, 4, 6], [15, 11, 12]])\n",
    "\n",
    "polygrid3d([7, 9], [8, 10], [5, 6], arr)"
   ]
  },
  {
   "cell_type": "code",
   "execution_count": null,
   "id": "d05e9539",
   "metadata": {},
   "outputs": [],
   "source": []
  }
 ],
 "metadata": {
  "kernelspec": {
   "display_name": "Python 3",
   "language": "python",
   "name": "python3"
  },
  "language_info": {
   "codemirror_mode": {
    "name": "ipython",
    "version": 3
   },
   "file_extension": ".py",
   "mimetype": "text/x-python",
   "name": "python",
   "nbconvert_exporter": "python",
   "pygments_lexer": "ipython3",
   "version": "3.8.8"
  }
 },
 "nbformat": 4,
 "nbformat_minor": 5
}
